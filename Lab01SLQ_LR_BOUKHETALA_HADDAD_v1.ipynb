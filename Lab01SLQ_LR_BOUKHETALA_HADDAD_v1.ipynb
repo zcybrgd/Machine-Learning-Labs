{
  "cells": [
    {
      "cell_type": "markdown",
      "metadata": {
        "id": "yc3rKW1rl7XK"
      },
      "source": [
        "# 2CS-SIL2/SIQ2 Lab01. Logistic Regression\n",
        "\n",
        "<p style='text-align: right;font-style: italic;'>Designed by: Mr. Abdelkrime Aries</p>\n",
        "\n",
        "In this lab, we will learn all about logistic regression:\n",
        "- Linear regression\n",
        "- Binary logistic regression\n",
        "- Multi-class logistic regression\n",
        "- Multi-label logistic regression"
      ]
    },
    {
      "cell_type": "markdown",
      "metadata": {
        "id": "Q4TGgTR4l7XM"
      },
      "source": [
        "**Team:**\n",
        "- **Member 01**: BOUKHETALA Zaineb\n",
        "- **Member 02**: HADDAD Amira\n",
        "- **Group**: SIQ2"
      ]
    },
    {
      "cell_type": "code",
      "execution_count": 2,
      "metadata": {
        "colab": {
          "base_uri": "https://localhost:8080/",
          "height": 36
        },
        "id": "FJgDB_uCl7XN",
        "outputId": "46b0f313-65a6-4bb7-c3f5-5c5f42c3e018"
      },
      "outputs": [
        {
          "output_type": "execute_result",
          "data": {
            "text/plain": [
              "'3.11.11 (main, Dec  4 2024, 08:55:07) [GCC 11.4.0]'"
            ],
            "application/vnd.google.colaboratory.intrinsic+json": {
              "type": "string"
            }
          },
          "metadata": {},
          "execution_count": 2
        }
      ],
      "source": [
        "import sys, timeit\n",
        "from typing          import Tuple, List, Type\n",
        "from collections.abc import Callable\n",
        "\n",
        "sys.version"
      ]
    },
    {
      "cell_type": "code",
      "execution_count": 3,
      "metadata": {
        "colab": {
          "base_uri": "https://localhost:8080/"
        },
        "id": "n0tmGivKl7XO",
        "outputId": "145732a0-661f-4f39-89ee-e73cefa09a5c"
      },
      "outputs": [
        {
          "output_type": "execute_result",
          "data": {
            "text/plain": [
              "('1.26.4', '2.2.2', '3.10.0')"
            ]
          },
          "metadata": {},
          "execution_count": 3
        }
      ],
      "source": [
        "import numpy             as np\n",
        "import pandas            as pd\n",
        "import matplotlib.pyplot as plt\n",
        "import matplotlib\n",
        "%matplotlib inline\n",
        "\n",
        "np.__version__, pd.__version__, matplotlib.__version__"
      ]
    },
    {
      "cell_type": "code",
      "execution_count": 4,
      "metadata": {
        "colab": {
          "base_uri": "https://localhost:8080/",
          "height": 36
        },
        "id": "jJwo1LRJl7XO",
        "outputId": "6a40e413-fc10-4c44-eb2a-d9240e2ddd94"
      },
      "outputs": [
        {
          "output_type": "execute_result",
          "data": {
            "text/plain": [
              "'1.6.1'"
            ],
            "application/vnd.google.colaboratory.intrinsic+json": {
              "type": "string"
            }
          },
          "metadata": {},
          "execution_count": 4
        }
      ],
      "source": [
        "import sklearn\n",
        "\n",
        "from sklearn.model_selection import train_test_split\n",
        "from sklearn.preprocessing   import StandardScaler\n",
        "from sklearn.linear_model    import LogisticRegression\n",
        "from sklearn.linear_model    import SGDClassifier\n",
        "from sklearn.multiclass      import OneVsRestClassifier\n",
        "from sklearn.multiclass      import OneVsOneClassifier\n",
        "from sklearn.metrics         import accuracy_score\n",
        "from sklearn.metrics         import classification_report\n",
        "from sklearn.metrics         import log_loss\n",
        "\n",
        "sklearn.__version__"
      ]
    },
    {
      "cell_type": "code",
      "execution_count": 5,
      "metadata": {
        "id": "gNRSoRt7l7XP"
      },
      "outputs": [],
      "source": [
        "# This code is used to filter warnings concerning convergence\n",
        "# In general, when the maximum number of iterations is not suffisant to converge\n",
        "import warnings\n",
        "from sklearn.exceptions import ConvergenceWarning\n",
        "warnings.filterwarnings('ignore', category=ConvergenceWarning)"
      ]
    },
    {
      "cell_type": "markdown",
      "metadata": {
        "id": "hKXu83pBl7XP"
      },
      "source": [
        "## I. Algorithms implementation\n",
        "\n",
        "1.   List item\n",
        "2.   List item\n",
        "\n",
        "\n",
        "\n",
        "In this section, we will try to implement all forms of linear/logistic regression. In fact, those forms are similar and use almost the same algorithms. For example, multi-label LR is actually binary regression with multiple outputs.\n",
        "\n",
        "\n",
        "**>> Try to use \"numpy\" which will save a lot of time and effort**\n",
        "\n",
        "### I.1. Prediction functions\n",
        "\n",
        "We want to implement all prediction functions used for linear regression, binary logistic regression and Maximum entropy (Logistic regression with softmax).\n",
        "\n",
        "#### I.1.1. Linear combination\n",
        "\n",
        "Given an input:\n",
        "- $X[M, N]$ a matrix of $M$ samples and $N$ features\n",
        "\n",
        "and some parameters ($theta_0$ is already embedded as the first parameter):\n",
        "- $\\theta[N]$: in case of binary classification\n",
        "- $\\theta[N, L]$: in case of multi-class classification. $L$ is the number of classes/labels.\n",
        "\n",
        "calculate the output:\n",
        "- $Z[M]$: each sample has one output (binary)\n",
        "- $Z[M, L]$: each sample has $L$ outputs (multiple)\n",
        "\n",
        "each class/label $c$ (in case of binary classification, there is only one label) has an output:\n",
        "$$Z_c = \\sum\\limits_{j=0}^{N} \\theta_{(c, j)} X_j | X_0 = 1 $$\n",
        "\n",
        "A more general form:\n",
        "$$Z = zfn(X, \\theta) = X \\cdot \\theta$$\n"
      ]
    },
    {
      "cell_type": "code",
      "execution_count": 6,
      "metadata": {
        "id": "2K7gp4q0l7XP",
        "outputId": "e028861c-361e-4ed8-fd68-db7cf6522d7a",
        "colab": {
          "base_uri": "https://localhost:8080/"
        }
      },
      "outputs": [
        {
          "output_type": "execute_result",
          "data": {
            "text/plain": [
              "(array([1. , 1.7, 2.4]),\n",
              " array([[0. , 0. , 0. ],\n",
              "        [0.5, 0.1, 0.6],\n",
              "        [0.2, 0.3, 0. ],\n",
              "        [0.7, 0.4, 0.6]]))"
            ]
          },
          "metadata": {},
          "execution_count": 6
        }
      ],
      "source": [
        "# TODO: Linear combination\n",
        "def zfn(X: np.ndarray, Theta: np.ndarray) -> np.ndarray:\n",
        "  Z = np.dot(X, Theta)\n",
        "  return Z\n",
        "\n",
        "X_t     = np.array([[1., 100.],\n",
        "                    [1., 200.],\n",
        "                    [1., 300.]]) # 3 samples, 2 features\n",
        "Theta_t = np.array([0.3, 0.007]) # 2 classes\n",
        "\n",
        "X_tL = np.array([[0., 0.],\n",
        "                 [1., 0.],\n",
        "                 [0., 1.],\n",
        "                 [1., 1.]]) # 4 samples, 2 features\n",
        "Theta_tL = np.array([[0.5, 0.1, 0.6],\n",
        "                     [0.2, 0.3, 0.0]]) # 2 features, 3 classes\n",
        "# binary, multiple\n",
        "zfn(X_t, Theta_t), zfn(X_tL, Theta_tL)"
      ]
    },
    {
      "cell_type": "markdown",
      "metadata": {
        "id": "IP4DprFYl7XQ"
      },
      "source": [
        "#### I.1.2. Logistic function\n",
        "\n",
        "Given the linear combination:\n",
        "- $Z[M]$: each sample has one output (binary)\n",
        "- $Z[M, L]$: each sample has $L$ outputs (multiple)\n",
        "\n",
        "We generate prediction probabilities:\n",
        "- $H[M]$: each sample has one output (binary)\n",
        "- $H[M, L]$: each sample has $L$ outputs (multiple)\n",
        "\n",
        "Using the logistic function:\n",
        "$$H = \\sigma(Z) = \\frac{1}{1+e^{-Z}}$$\n",
        "\n",
        "**>> Using numpy arrays, this function works for vectors and matrices**"
      ]
    },
    {
      "cell_type": "code",
      "execution_count": 7,
      "metadata": {
        "id": "iZTYWYfml7XQ",
        "outputId": "cb00c31b-4770-4af4-c8fc-5b2275cbaa90",
        "colab": {
          "base_uri": "https://localhost:8080/"
        }
      },
      "outputs": [
        {
          "output_type": "execute_result",
          "data": {
            "text/plain": [
              "(array([0.73105858, 0.84553473, 0.9168273 ]),\n",
              " array([[0.5       , 0.5       , 0.5       ],\n",
              "        [0.62245933, 0.52497919, 0.64565631],\n",
              "        [0.549834  , 0.57444252, 0.5       ],\n",
              "        [0.66818777, 0.59868766, 0.64565631]]))"
            ]
          },
          "metadata": {},
          "execution_count": 7
        }
      ],
      "source": [
        "# TODO: Logistic function\n",
        "def sgfn(Z: 'np.ndarray[M, L]') -> 'np.ndarray[M, L]':\n",
        "    Z = np.exp(-Z)\n",
        "    return 1 / (1+Z)\n",
        "\n",
        "Z_t = zfn(X_t, Theta_t)\n",
        "Z_tL = zfn(X_tL, Theta_tL)\n",
        "# binary, multiple\n",
        "sgfn(Z_t), sgfn(Z_tL)"
      ]
    },
    {
      "cell_type": "markdown",
      "metadata": {
        "id": "VGDtzwQ9l7XR"
      },
      "source": [
        "#### I.1.3. Softmax function\n",
        "\n",
        "Given the linear combination:\n",
        "- $Z[M, L]$: each sample has $L$ outputs (multiple)\n",
        "\n",
        "We generate predictions:\n",
        "- $H[M, L]$: each sample has $L$ outputs (multiple)\n",
        "\n",
        "Using the softmax function:\n",
        "$$H = softmax(Z)=\\frac{e^Z}{\\sum\\limits_{k=1}^{L} e^{Z_k}}$$\n",
        "\n",
        "Basically:\n",
        "- Calculate $H' = e^Z$\n",
        "- Then divide $H'$ by the vector $H'$ summed over colums\n",
        "- numpy automatically transforms a vector $V[M, 1]$ into $V[M]$. So, you have to force a vertical vector using **reshape(-1, 1)**.\n",
        "- The sum of probabilities in each row must equal 1"
      ]
    },
    {
      "cell_type": "code",
      "execution_count": 8,
      "metadata": {
        "id": "h-_3n4fCl7XR",
        "outputId": "cc209f5b-c2d5-444b-d657-c06b13b108a1",
        "colab": {
          "base_uri": "https://localhost:8080/"
        }
      },
      "outputs": [
        {
          "output_type": "execute_result",
          "data": {
            "text/plain": [
              "array([[0.33333333, 0.33333333, 0.33333333],\n",
              "       [0.36029662, 0.24151404, 0.39818934],\n",
              "       [0.34200877, 0.37797814, 0.28001309],\n",
              "       [0.37797814, 0.28001309, 0.34200877]])"
            ]
          },
          "metadata": {},
          "execution_count": 8
        }
      ],
      "source": [
        "def softmaxfn(Z: np.ndarray) -> np.ndarray:\n",
        "    H = np.exp(Z)\n",
        "    H = H / H.sum(axis=1).reshape(-1, 1)\n",
        "    return H\n",
        "\n",
        "softmaxfn(Z_tL)"
      ]
    },
    {
      "cell_type": "markdown",
      "metadata": {
        "id": "YjgKOsoTl7XR"
      },
      "source": [
        "### I.2. Cost functions\n",
        "\n",
        "We want to implement these cost functions:\n",
        "- Mean Square Error (MSE): for linear regression\n",
        "- Binary Cross Entropy (BCE): for binary logistic regression and multi-label logistic regression\n",
        "- Cross Entropy (CE): for maximum entropy (MaxEnt) algorithm (multi-class logistic regression)\n",
        "\n",
        "\n",
        "#### I.2.1. Mean Square Error (MSE)\n",
        "\n",
        "Given the estimated outputs $H[M]$, calculate the error based on the real outputs $Y[M]$.\n",
        "\n",
        "$$J = MSE(Y, H) = \\frac{1}{2M} \\sum\\limits_{i=1}^{M} (Y - H)^2$$\n",
        "\n",
        "**>> This is used for linear regression which is applicable only on one output per sample**"
      ]
    },
    {
      "cell_type": "code",
      "execution_count": 9,
      "metadata": {
        "id": "JMk25yVUl7XS",
        "outputId": "f6828389-8135-4276-8a20-63ff05b1ada9",
        "colab": {
          "base_uri": "https://localhost:8080/"
        }
      },
      "outputs": [
        {
          "output_type": "execute_result",
          "data": {
            "text/plain": [
              "0.016666666666666673"
            ]
          },
          "metadata": {},
          "execution_count": 9
        }
      ],
      "source": [
        "# TODO: MSE cost function\n",
        "def MSEfn(Y: 'np.ndarray[M]',\n",
        "        H: 'np.ndarray[M]') -> float:\n",
        "    J = np.mean(np.power(Y-H,2))\n",
        "    return J/2\n",
        "\n",
        "H_t = np.array([1. , 1.7, 2.4])\n",
        "Y_t = np.array([1., 2., 2.5])\n",
        "MSEfn(Y_t, H_t)"
      ]
    },
    {
      "cell_type": "markdown",
      "metadata": {
        "id": "ruRJhr17l7XS"
      },
      "source": [
        "#### I.2.2. Binary Cross Entropy (BCE)\n",
        "\n",
        "Given the output probabilities:\n",
        "- $H[M]$: each sample has one output (binary)\n",
        "- $H[M, L]$: each sample has $L$ outputs (multi-label)\n",
        "\n",
        "and the real classes:\n",
        "- $Y[M]$: each sample has one output (binary)\n",
        "- $Y[M, L]$: each sample has $L$ outputs (multi-label)\n",
        "\n",
        "The BCE loss for one sample is:\n",
        "$$BCE(Y^{(i)}, H^{(i)})\n",
        "= \\begin{cases}\n",
        "- \\log(H^{(i)}) & \\text{ si } Y^{(i)} = 1\\\\\n",
        "- \\log(1 - H^{(i)})  & \\text{ si } Y^{(i)} = 0\n",
        "\\end{cases}\n",
        "$$\n",
        "Since $Y^{(i)} \\in \\{0, 1\\}$, then:\n",
        "\n",
        "$$ BCE(Y^{(i)}, H^{(i)}) = - Y^{(i)} \\log(H^{(i)}) - (1- Y^{(i)}) \\log(1 - H^{(i)}) $$\n",
        "\n",
        "Then, the loss function will be:\n",
        "$$J = BCE(Y, H) = \\frac{-1}{M} \\sum\\limits_{i=1}^{M} [Y^{(i)} \\log(H^{(i)}) + (1- Y^{(i)}) \\log(1 - H^{(i)})]$$\n",
        "\n",
        "**>> practically, a little value epsilon is added into the log to avoid log(0)**"
      ]
    },
    {
      "cell_type": "code",
      "execution_count": 10,
      "metadata": {
        "id": "Zs5h7ZYUl7XS",
        "outputId": "392f5fb2-7b9f-4438-f36c-79ff50f454d6",
        "colab": {
          "base_uri": "https://localhost:8080/"
        }
      },
      "outputs": [
        {
          "output_type": "execute_result",
          "data": {
            "text/plain": [
              "(0.7559612797265517,\n",
              " 0.7559612499514038,\n",
              " 0.7112278056068634,\n",
              " 0.7112277848173427)"
            ]
          },
          "metadata": {},
          "execution_count": 10
        }
      ],
      "source": [
        "# TODO: BCE loss function\n",
        "def BCEfn(Y  : 'np.ndarray[M,L]',\n",
        "        H  : 'np.ndarray[M,L]',\n",
        "        eps: float = 1e-8   ) -> float:\n",
        "    J = - np.mean(Y * np.log(H+eps) + (1-Y) * np.log(1-H+eps))\n",
        "    return J\n",
        "Y_t = np.array([1., 0., 1.])\n",
        "H_t = np.array([0.73105858, 0.84553473, 0.9168273 ])\n",
        "\n",
        "Y_tL = np.array([[1, 0, 1],\n",
        "                 [1, 1, 0],\n",
        "                 [1, 1, 1],\n",
        "                 [0, 0, 1]]) # multilabel\n",
        "H_tL = np.array([[0.5       , 0.5       , 0.5       ],\n",
        "                 [0.62245933, 0.52497919, 0.64565631],\n",
        "                 [0.549834  , 0.57444252, 0.5       ],\n",
        "                 [0.66818777, 0.59868766, 0.64565631]])\n",
        "\n",
        "BCEfn(Y_t, H_t, eps=0), BCEfn(Y_t, H_t), BCEfn(Y_tL, H_tL, eps=0), BCEfn(Y_tL, H_tL)"
      ]
    },
    {
      "cell_type": "markdown",
      "metadata": {
        "id": "CvhjL4Hwl7XT"
      },
      "source": [
        "#### I.2.3. Cross Entropy (CE)\n",
        "\n",
        "Given the output probabilities:\n",
        "- $H[M, L]$: each sample has $L$ outputs (multi-class)\n",
        "\n",
        "and the real classes:\n",
        "- $Y[M, L]$: each sample has $L$ outputs (multi-class)\n",
        "\n",
        "$$J = CE(H, Y) = \\frac{-1}{M} \\sum\\limits_{i=1}^{M} \\sum\\limits_{c=1}^{L} Y^{(i)}_c \\log(H^{(i)}_c)$$\n",
        "\n",
        "**>> HINT: sum over classes (column), mean over samples**"
      ]
    },
    {
      "cell_type": "code",
      "execution_count": 11,
      "metadata": {
        "id": "4bzNS51Dl7XT",
        "outputId": "d7cfaf9d-761d-42bf-a26f-15dac3257a9b",
        "colab": {
          "base_uri": "https://localhost:8080/"
        }
      },
      "outputs": [
        {
          "output_type": "execute_result",
          "data": {
            "text/plain": [
              "1.1913194530574498"
            ]
          },
          "metadata": {},
          "execution_count": 11
        }
      ],
      "source": [
        "# TODO: CE loss function\n",
        "def CEfn(Y: np.ndarray, H: np.ndarray) -> float:\n",
        "    J = - np.mean(np.sum(Y*np.log(H)))\n",
        "    J = J/Y.shape[0]\n",
        "    return J\n",
        "\n",
        "Y_tL = np.array([[1,0,0],\n",
        "                 [0,1,0],\n",
        "                 [0,0,1],\n",
        "                 [1,0,0]])\n",
        "H_tL = np.array([[0.33333333, 0.33333333, 0.33333333],\n",
        "                 [0.36029662, 0.24151404, 0.39818934],\n",
        "                 [0.34200877, 0.37797814, 0.28001309],\n",
        "                 [0.37797814, 0.28001309, 0.34200877]])\n",
        "\n",
        "CEfn(Y_tL, H_tL)"
      ]
    },
    {
      "cell_type": "markdown",
      "metadata": {
        "id": "aQO4e_V-l7XT"
      },
      "source": [
        "### I.3. Gradients\n",
        "\n",
        "We want to implement these cost functions' gradients:\n",
        "- dMSE: for linear regression\n",
        "- dBCE: for binary logistic regression (the same as dMSE) and multi-label logistic regression (a little different)\n",
        "- dCE: for maximum entropy (MaxEnt) algorithm (multi-class logistic regression)\n",
        "\n",
        "**>> Good news: gradients function is the same**\n",
        "\n",
        "\n",
        "Given the input:\n",
        "- $X[M, N]$ a matrix of $M$ samples and $N$ features\n",
        "\n",
        "the real output values:\n",
        "- $Y[M]$: each sample has one output\n",
        "- $Y[M, L]$: each sample has $L$ outputs\n",
        "\n",
        "and the estimated output:\n",
        "- $H[M]$: each sample has one estimated output\n",
        "- $H[M, L]$: each sample has $L$ estimated outputs\n",
        "\n",
        "calculate the gradients:\n",
        "- $\\frac{\\partial J}{\\partial \\theta}[N]$: each feature has one gradient\n",
        "- $\\frac{\\partial J}{\\partial \\theta}[N, L]$: each feature has $L$ gradients\n",
        "\n",
        "The gradients are calculated as (matrix form):\n",
        "$$\\frac{\\partial J}{\\partial \\theta} = \\frac{1}{M} (X^T \\cdot (H - Y))$$\n",
        "\n",
        "---\n",
        "A BORING CALCULATION (MSE)\n",
        "\n",
        "$$\\frac{\\partial MSE}{\\partial \\theta_j}\n",
        "= \\frac{\\partial }{\\partial \\theta_j} \\frac{1}{2M} \\sum\\limits_{i=1}^{M} (Y^{(i)} - H^{(i)})^2\n",
        "= \\frac{1}{2M} \\sum\\limits_{i=1}^{M} [\\frac{\\partial }{\\partial \\theta_j} (Y^{(i)} - H^{(i)})^2]\n",
        "= \\frac{1}{2M} \\sum\\limits_{i=1}^{M} [-2 (Y^{(i)} - H^{(i)}) \\frac{\\partial }{\\partial \\theta_j} H^{(i)}]\n",
        "$$\n",
        "\n",
        "$$\\frac{\\partial MSE}{\\partial \\theta_j}\n",
        "= \\frac{1}{M} \\sum\\limits_{i=1}^{M} [(H^{(i)} - Y^{(i)}) \\frac{\\partial }{\\partial \\theta_j} \\sum\\limits_{k=0}^{N} \\theta_k X_k^{(i)}]\n",
        "= \\frac{1}{M} \\sum\\limits_{i=1}^{M} [(H^{(i)} - Y^{(i)}) \\frac{\\partial }{\\partial \\theta_j} \\theta_j X_j^{(i)}]\n",
        "$$\n",
        "$$\\frac{\\partial MSE}{\\partial \\theta_j} = \\frac{1}{M} \\sum\\limits_{i=1}^{M} (H^{(i)} - Y^{(i)}) X_j^{(i)}$$\n",
        "\n",
        "---\n",
        "A BORING CALCULATION (BCE)\n",
        "\n",
        "$$\\frac{\\partial BCE}{\\partial \\theta_j}\n",
        "= \\frac{-1}{M} \\sum\\limits_{i=1}^{M} \\frac{\\partial}{\\partial \\theta_j} [Y^{(i)} \\log(H^{(i)}) + (1- Y^{(i)}) \\log(1 - H^{(i)})]\n",
        "$$\n",
        "\n",
        "$$\\frac{\\partial BCE}{\\partial \\theta_j}\n",
        "= \\frac{-1}{M} \\sum\\limits_{i=1}^{M} [ Y^{(i)} \\frac{\\partial}{\\partial \\theta_j} \\log(H^{(i)}) + (1- Y^{(i)}) \\frac{\\partial}{\\partial \\theta_j}\\log(1 - H^{(i)})]\n",
        "$$\n",
        "\n",
        "$$\\frac{\\partial BCE}{\\partial \\theta_j}\n",
        "= \\frac{-1}{M} \\sum\\limits_{i=1}^{M} [ Y^{(i)} \\frac{1}{H^{(i)}} \\frac{\\partial}{\\partial \\theta_j} H^{(i)} + (1- Y^{(i)}) \\frac{-1}{1-H^{(i)}} \\frac{\\partial}{\\partial \\theta_j} H^{(i)})]\n",
        "= \\frac{-1}{M} \\sum\\limits_{i=1}^{M} \\frac{Y^{(i)}-H^{(i)}}{H^{(i)}(1-H^{(i)})} \\frac{\\partial}{\\partial \\theta_j} H^{(i)}\n",
        "$$\n",
        "\n",
        "$$\\frac{\\partial H^{(i)}}{\\partial \\theta_j}\n",
        "= \\frac{\\partial \\sigma(Z^{(i)})}{\\partial Z^{(i)}} \\frac{\\partial Z^{(i)}}{\\partial \\theta_j}\n",
        "= [\\sigma(Z^{(i)}) (1-\\sigma(Z^{(i)}))]\\frac{\\partial}{\\partial \\theta_j} \\sum\\limits_{k=0}^{N} \\theta_k X_k^{(i)}  \n",
        "= H^{(i)} (1-H^{(i)})  X_j^{(i)}\n",
        "$$\n",
        "\n",
        "$$\\frac{\\partial BCE}{\\partial \\theta_j}\n",
        "= \\frac{-1}{M} \\sum\\limits_{i=1}^{M} \\frac{Y^{(i)}-H^{(i)}}{H^{(i)}(1-H^{(i)})} [H^{(i)} (1-H^{(i)}) X_j^{(i)}]\n",
        "$$\n",
        "\n",
        "$$\\frac{\\partial BCE}{\\partial \\theta_j} = \\frac{1}{M} \\sum\\limits_{i=1}^{M} (H^{(i)} - Y^{(i)}) X_j^{(i)}$$\n"
      ]
    },
    {
      "cell_type": "code",
      "execution_count": 12,
      "metadata": {
        "id": "XqNv-KsUl7XU",
        "outputId": "a9337d11-74e0-4f42-bb4f-b515ff5a64a4",
        "colab": {
          "base_uri": "https://localhost:8080/"
        }
      },
      "outputs": [
        {
          "output_type": "execute_result",
          "data": {
            "text/plain": [
              "(array([ -0.13333333, -30.        ]),\n",
              " array([[-0.06543131, -0.11961822,  0.18504953],\n",
              "        [-0.07000327,  0.16449781, -0.09449454]]))"
            ]
          },
          "metadata": {},
          "execution_count": 12
        }
      ],
      "source": [
        "# TODO: Gradients\n",
        "def dJfn(X: np.ndarray, H: np.ndarray,  Y: np.ndarray) -> np.ndarray:\n",
        "    return (1/X.shape[0]) * np.dot(X.T, (H - Y))\n",
        "\n",
        "X_t = np.array([[1., 100.],\n",
        "                [1., 200.],\n",
        "                [1., 300.]])\n",
        "H_t = np.array([1. , 1.7, 2.4])\n",
        "Y_t = np.array([1., 2., 2.5])\n",
        "\n",
        "X_tL = np.array([[0., 0.], [1., 0.], [0., 1.], [1., 1.]])\n",
        "H_tL = np.array([[0.33333333, 0.33333333, 0.33333333],\n",
        "                 [0.36029662, 0.24151404, 0.39818934],\n",
        "                 [0.34200877, 0.37797814, 0.28001309],\n",
        "                 [0.37797814, 0.28001309, 0.34200877]])\n",
        "Y_tL = np.array([[1,0,0], [0,1,0], [0,0,1], [1,0,0]])\n",
        "\n",
        "\n",
        "dJfn(X_t, H_t, Y_t), dJfn(X_tL,H_tL, Y_tL)"
      ]
    },
    {
      "cell_type": "markdown",
      "metadata": {
        "id": "B8wBgF_ll7XU"
      },
      "source": [
        "### I.4. Final product\n",
        "\n",
        "**>> Nothing to code here**\n",
        "\n",
        "This section is to show how all the previous algorithms are merged into one usefull program.\n",
        "So, we will use all the previously implemented functions, add some others and implement a class which is easy to use.\n",
        "\n",
        "#### I.4.1. Gradient descent\n",
        "\n",
        "This is the simplest version of gradient descent. It iterates until it reaches the maximum iterations.\n",
        "It takes estimation function, cost function and gradient function as arguments so we can used it for different problems (linear regression, binary logistic regression, etc.). Also known as polymorphism."
      ]
    },
    {
      "cell_type": "code",
      "execution_count": 13,
      "metadata": {
        "id": "yJEsoteAl7XU",
        "outputId": "ccea9c6f-a3f2-4450-ea4a-db83fe392d81",
        "colab": {
          "base_uri": "https://localhost:8080/"
        }
      },
      "outputs": [
        {
          "output_type": "execute_result",
          "data": {
            "text/plain": [
              "(array([0.86298175, 0.58991304, 0.96329937]),\n",
              " [6.3375,\n",
              "  5.32767996484375,\n",
              "  4.48068435059748,\n",
              "  3.7702582684901684,\n",
              "  3.174380343989813])"
            ]
          },
          "metadata": {},
          "execution_count": 13
        }
      ],
      "source": [
        "# Gradient descent. By default, it is linear regression\n",
        "def GDfn (X    : 'np.ndarray[M, N]', # Input M samples, N features (obligatory)\n",
        "          Y    : 'np.ndarray[M, L]', # Output M samples, L classes (obligatory)\n",
        "          Theta: 'np.ndarray[N, L]', # Parameters (obligatory)\n",
        "          IT   : int      = 100    , # Maximum number of iterations\n",
        "          alpha: float    = 0.01   , # Learning rate\n",
        "          H_fn : Callable = zfn    , # Estimation function\n",
        "          J_fn : Callable = MSEfn  , # Cost function\n",
        "          dJ_fn: Callable = dJfn     # Gradient function\n",
        "         ) -> Tuple[List[np.ndarray], List[float]]:\n",
        "\n",
        "    costs  = []           # costs history\n",
        "    Theta  = Theta.copy() # make a copy of the original parameters\n",
        "\n",
        "    for it in range(IT):\n",
        "        H  = H_fn (X, Theta) # estimation\n",
        "        J  = J_fn (Y, H)     # cost\n",
        "        dJ = dJ_fn(X, H, Y)  # gradients\n",
        "\n",
        "        costs.append(J) # add cost into history\n",
        "        Theta = Theta - alpha * dJ # update parameters\n",
        "\n",
        "    return Theta, costs\n",
        "\n",
        "X_t = np.array([\n",
        "    [1, 1, 0.2],\n",
        "    [1, 2, 0.1],\n",
        "    [1, 3, 0.4],\n",
        "    [1, 4, 0.3]\n",
        "])\n",
        "Theta_t = np.array([1., 1., 1.])\n",
        "Y_t = np.array([1, 0, 1, 0])\n",
        "\n",
        "Theta_new, J_hist = GDfn(X_t, Y_t, Theta_t, IT=5)\n",
        "\n",
        "Theta_new, J_hist"
      ]
    },
    {
      "cell_type": "markdown",
      "metadata": {
        "id": "bs-DeIBOl7XU"
      },
      "source": [
        "#### I.4.2. Data preparation functions\n",
        "\n",
        "The function **norm** normalizes the input $X' = \\frac{X-\\mu}{\\sigma}$:\n",
        "- in case of training data $X_{train}$, the mean and standard deviation are calculated on this data\n",
        "- in case of test data $X_{test}$, the mean and standard deviation must be those calculated over $X_{train}$ (passed as arguments)\n",
        "\n",
        "The function **prepare** returns a prepared data:\n",
        "- if norm=True: data will be normalized; otherwise it will be the same\n",
        "- if bias=True: a column of 1s will be added into $X$ (it is like adding $\\theta_0$)"
      ]
    },
    {
      "cell_type": "code",
      "execution_count": 14,
      "metadata": {
        "id": "Ck8Kowx9l7XV",
        "outputId": "8622598b-e6a2-42d1-b176-b45fed32b3cf",
        "colab": {
          "base_uri": "https://localhost:8080/"
        }
      },
      "outputs": [
        {
          "output_type": "execute_result",
          "data": {
            "text/plain": [
              "((array([[ 1.        , -1.22474487, -0.26726124],\n",
              "         [ 1.        ,  0.        , -1.06904497],\n",
              "         [ 1.        ,  1.22474487,  1.33630621]]),\n",
              "  array([2.        , 0.23333333]),\n",
              "  array([0.81649658, 0.12472191])),\n",
              " (array([[-0.25,  1.  ],\n",
              "         [ 0.25,  0.  ],\n",
              "         [ 0.75,  3.  ]]),\n",
              "  array([1.5, 0.1]),\n",
              "  array([2. , 0.1])))"
            ]
          },
          "metadata": {},
          "execution_count": 14
        }
      ],
      "source": [
        "# normalize X based on the\n",
        "def normfn(X, mean=None, std=None):\n",
        "    if (mean is None) or (std is None):\n",
        "        mean = np.mean(X, axis=0)\n",
        "        std = np.std(X, axis=0)\n",
        "    X_norm = np.where(std==0, X, (X - mean)/std)\n",
        "    return X_norm, mean, std\n",
        "\n",
        "def preparefn(X, norm=True, bias=True, mean=None, std=None):\n",
        "    X_pre = X.copy()\n",
        "    if norm:\n",
        "        X_pre, mean, std = normfn(X_pre, mean=mean, std=std)\n",
        "    if bias:\n",
        "        X_pre = np.append(np.ones((X_pre.shape[0],1)), X_pre ,axis=1)\n",
        "    return X_pre, mean, std\n",
        "\n",
        "X_t = np.array([[1, 0.2],\n",
        "                [2, 0.1],\n",
        "                [3, 0.4]])\n",
        "\n",
        "preparefn(X_t), preparefn(X_t, bias=False, mean=np.array([1.5, 0.1]), std=np.array([2, 0.1]))"
      ]
    },
    {
      "cell_type": "markdown",
      "metadata": {
        "id": "6rtO0Ghwl7XV"
      },
      "source": [
        "#### I.4.3.  Missing functions\n",
        "\n",
        "These are functions which must be implemented before"
      ]
    },
    {
      "cell_type": "code",
      "execution_count": 15,
      "metadata": {
        "id": "xcWA44sAl7XV"
      },
      "outputs": [],
      "source": [
        "def vote(H: np.ndarray) -> np.ndarray:\n",
        "    res = np.zeros(H.shape)\n",
        "    res[range(len(H)), H.argmax(axis=1)] = 1\n",
        "    return res"
      ]
    },
    {
      "cell_type": "markdown",
      "metadata": {
        "id": "G05xHZwel7XV"
      },
      "source": [
        "#### I.4.4.  Regression class"
      ]
    },
    {
      "cell_type": "code",
      "execution_count": 16,
      "metadata": {
        "id": "ipYIiT0pl7XW",
        "outputId": "837f8725-5543-445d-fba4-ecf2ab29b128",
        "colab": {
          "base_uri": "https://localhost:8080/"
        }
      },
      "outputs": [
        {
          "output_type": "execute_result",
          "data": {
            "text/plain": [
              "array([[1., 0., 0.],\n",
              "       [0., 1., 0.],\n",
              "       [0., 1., 0.],\n",
              "       [0., 0., 1.]])"
            ]
          },
          "metadata": {},
          "execution_count": 16
        }
      ],
      "source": [
        "class Regression(object):\n",
        "\n",
        "    def __init__(self, norm=True, bias=True, type='linear'):\n",
        "        self.norm  = norm\n",
        "        self.bias  = bias\n",
        "\n",
        "        # by default linear regression\n",
        "        self.Hfn : Callable = zfn   # Estimation function\n",
        "        self.Yfn : Callable = zfn   # Prediction function\n",
        "        self.Jfn : Callable = MSEfn # Cost function\n",
        "        self.dJfn: Callable = dJfn  # Gradient function\n",
        "\n",
        "        if type in ['binary', 'multilabel']:\n",
        "            self.Hfn = lambda X, Theta : sgfn(zfn(X, Theta))\n",
        "            self.Yfn = lambda X, Theta : (self.Hfn(X, Theta) >= 0.5).astype(int)\n",
        "            self.Jfn = BCEfn\n",
        "        elif type == 'multiclass':\n",
        "            self.Hfn = lambda X, Theta : softmaxfn(zfn(X, Theta))\n",
        "            self.Yfn = lambda X, Theta : vote(self.Hfn(X, Theta))\n",
        "            self.Jfn = CEfn\n",
        "\n",
        "\n",
        "    def fit(self, X, Y, max_iter=100, alpha=.01) -> List[float]:\n",
        "        X_pre, self.mean, self.std = preparefn(X, norm=self.norm, bias=self.bias)\n",
        "        if len(Y.shape) > 1:\n",
        "            Theta = np.zeros((X_pre.shape[1], Y.shape[1])) #not simple one output regreesion\n",
        "        else:\n",
        "            Theta = np.zeros(X_pre.shape[1])\n",
        "        self.Theta, costs = GDfn(X_pre, Y, Theta, IT=max_iter, alpha=alpha)\n",
        "        return costs\n",
        "\n",
        "\n",
        "    # Predictions\n",
        "    # if prob=True return probbilities\n",
        "    # else return labels\n",
        "    def predict(self, X, prob=True):\n",
        "        X_pre, _, _ = preparefn(X, norm=self.norm, bias=self.bias, mean=self.mean, std=self.std)\n",
        "        if prob:\n",
        "            return self.Hfn(X_pre, self.Theta)\n",
        "        return self.Yfn(X_pre, self.Theta)\n",
        "\n",
        "X_tn = np.array([[0., 0.], [1., 0.], [0., 1.], [1., 1.]])\n",
        "Y_tn = np.array([[1,0,0], [0,1,0], [0,0,1], [1,0,0]])\n",
        "\n",
        "X_testn = np.array([[2., 2.], [1., 0.], [1., -1.], [2., 5.]])\n",
        "\n",
        "maxent = Regression(type='multiclass')\n",
        "_ = maxent.fit(X_tn, Y_tn)\n",
        "maxent.predict(X_testn, prob=False)"
      ]
    },
    {
      "cell_type": "markdown",
      "metadata": {
        "id": "AaofbyG6l7XW"
      },
      "source": [
        "## II. Application and Analysis\n",
        "\n",
        "In this section, we will test different concepts by running an experiment, formulating a hypothesis and trying to justify it.\n",
        "\n"
      ]
    },
    {
      "cell_type": "code",
      "execution_count": 22,
      "metadata": {
        "id": "C1AsBXF0l7XW",
        "outputId": "59187f74-3ee5-46b5-cd4a-98cb926b3e5a",
        "colab": {
          "base_uri": "https://localhost:8080/",
          "height": 206
        }
      },
      "outputs": [
        {
          "output_type": "execute_result",
          "data": {
            "text/plain": [
              "      G1     G2  Admitted\n",
              "0   9.75  16.00         1\n",
              "1   2.25   9.50         0\n",
              "2   4.50   2.50         0\n",
              "3  15.50  10.25         1\n",
              "4   3.25  19.50         1"
            ],
            "text/html": [
              "\n",
              "  <div id=\"df-962b7e17-ac86-43f5-b25e-54bbba7d369f\" class=\"colab-df-container\">\n",
              "    <div>\n",
              "<style scoped>\n",
              "    .dataframe tbody tr th:only-of-type {\n",
              "        vertical-align: middle;\n",
              "    }\n",
              "\n",
              "    .dataframe tbody tr th {\n",
              "        vertical-align: top;\n",
              "    }\n",
              "\n",
              "    .dataframe thead th {\n",
              "        text-align: right;\n",
              "    }\n",
              "</style>\n",
              "<table border=\"1\" class=\"dataframe\">\n",
              "  <thead>\n",
              "    <tr style=\"text-align: right;\">\n",
              "      <th></th>\n",
              "      <th>G1</th>\n",
              "      <th>G2</th>\n",
              "      <th>Admitted</th>\n",
              "    </tr>\n",
              "  </thead>\n",
              "  <tbody>\n",
              "    <tr>\n",
              "      <th>0</th>\n",
              "      <td>9.75</td>\n",
              "      <td>16.00</td>\n",
              "      <td>1</td>\n",
              "    </tr>\n",
              "    <tr>\n",
              "      <th>1</th>\n",
              "      <td>2.25</td>\n",
              "      <td>9.50</td>\n",
              "      <td>0</td>\n",
              "    </tr>\n",
              "    <tr>\n",
              "      <th>2</th>\n",
              "      <td>4.50</td>\n",
              "      <td>2.50</td>\n",
              "      <td>0</td>\n",
              "    </tr>\n",
              "    <tr>\n",
              "      <th>3</th>\n",
              "      <td>15.50</td>\n",
              "      <td>10.25</td>\n",
              "      <td>1</td>\n",
              "    </tr>\n",
              "    <tr>\n",
              "      <th>4</th>\n",
              "      <td>3.25</td>\n",
              "      <td>19.50</td>\n",
              "      <td>1</td>\n",
              "    </tr>\n",
              "  </tbody>\n",
              "</table>\n",
              "</div>\n",
              "    <div class=\"colab-df-buttons\">\n",
              "\n",
              "  <div class=\"colab-df-container\">\n",
              "    <button class=\"colab-df-convert\" onclick=\"convertToInteractive('df-962b7e17-ac86-43f5-b25e-54bbba7d369f')\"\n",
              "            title=\"Convert this dataframe to an interactive table.\"\n",
              "            style=\"display:none;\">\n",
              "\n",
              "  <svg xmlns=\"http://www.w3.org/2000/svg\" height=\"24px\" viewBox=\"0 -960 960 960\">\n",
              "    <path d=\"M120-120v-720h720v720H120Zm60-500h600v-160H180v160Zm220 220h160v-160H400v160Zm0 220h160v-160H400v160ZM180-400h160v-160H180v160Zm440 0h160v-160H620v160ZM180-180h160v-160H180v160Zm440 0h160v-160H620v160Z\"/>\n",
              "  </svg>\n",
              "    </button>\n",
              "\n",
              "  <style>\n",
              "    .colab-df-container {\n",
              "      display:flex;\n",
              "      gap: 12px;\n",
              "    }\n",
              "\n",
              "    .colab-df-convert {\n",
              "      background-color: #E8F0FE;\n",
              "      border: none;\n",
              "      border-radius: 50%;\n",
              "      cursor: pointer;\n",
              "      display: none;\n",
              "      fill: #1967D2;\n",
              "      height: 32px;\n",
              "      padding: 0 0 0 0;\n",
              "      width: 32px;\n",
              "    }\n",
              "\n",
              "    .colab-df-convert:hover {\n",
              "      background-color: #E2EBFA;\n",
              "      box-shadow: 0px 1px 2px rgba(60, 64, 67, 0.3), 0px 1px 3px 1px rgba(60, 64, 67, 0.15);\n",
              "      fill: #174EA6;\n",
              "    }\n",
              "\n",
              "    .colab-df-buttons div {\n",
              "      margin-bottom: 4px;\n",
              "    }\n",
              "\n",
              "    [theme=dark] .colab-df-convert {\n",
              "      background-color: #3B4455;\n",
              "      fill: #D2E3FC;\n",
              "    }\n",
              "\n",
              "    [theme=dark] .colab-df-convert:hover {\n",
              "      background-color: #434B5C;\n",
              "      box-shadow: 0px 1px 3px 1px rgba(0, 0, 0, 0.15);\n",
              "      filter: drop-shadow(0px 1px 2px rgba(0, 0, 0, 0.3));\n",
              "      fill: #FFFFFF;\n",
              "    }\n",
              "  </style>\n",
              "\n",
              "    <script>\n",
              "      const buttonEl =\n",
              "        document.querySelector('#df-962b7e17-ac86-43f5-b25e-54bbba7d369f button.colab-df-convert');\n",
              "      buttonEl.style.display =\n",
              "        google.colab.kernel.accessAllowed ? 'block' : 'none';\n",
              "\n",
              "      async function convertToInteractive(key) {\n",
              "        const element = document.querySelector('#df-962b7e17-ac86-43f5-b25e-54bbba7d369f');\n",
              "        const dataTable =\n",
              "          await google.colab.kernel.invokeFunction('convertToInteractive',\n",
              "                                                    [key], {});\n",
              "        if (!dataTable) return;\n",
              "\n",
              "        const docLinkHtml = 'Like what you see? Visit the ' +\n",
              "          '<a target=\"_blank\" href=https://colab.research.google.com/notebooks/data_table.ipynb>data table notebook</a>'\n",
              "          + ' to learn more about interactive tables.';\n",
              "        element.innerHTML = '';\n",
              "        dataTable['output_type'] = 'display_data';\n",
              "        await google.colab.output.renderOutput(dataTable, element);\n",
              "        const docLink = document.createElement('div');\n",
              "        docLink.innerHTML = docLinkHtml;\n",
              "        element.appendChild(docLink);\n",
              "      }\n",
              "    </script>\n",
              "  </div>\n",
              "\n",
              "\n",
              "<div id=\"df-2d141cf5-b678-44dd-95a1-ddc51c177716\">\n",
              "  <button class=\"colab-df-quickchart\" onclick=\"quickchart('df-2d141cf5-b678-44dd-95a1-ddc51c177716')\"\n",
              "            title=\"Suggest charts\"\n",
              "            style=\"display:none;\">\n",
              "\n",
              "<svg xmlns=\"http://www.w3.org/2000/svg\" height=\"24px\"viewBox=\"0 0 24 24\"\n",
              "     width=\"24px\">\n",
              "    <g>\n",
              "        <path d=\"M19 3H5c-1.1 0-2 .9-2 2v14c0 1.1.9 2 2 2h14c1.1 0 2-.9 2-2V5c0-1.1-.9-2-2-2zM9 17H7v-7h2v7zm4 0h-2V7h2v10zm4 0h-2v-4h2v4z\"/>\n",
              "    </g>\n",
              "</svg>\n",
              "  </button>\n",
              "\n",
              "<style>\n",
              "  .colab-df-quickchart {\n",
              "      --bg-color: #E8F0FE;\n",
              "      --fill-color: #1967D2;\n",
              "      --hover-bg-color: #E2EBFA;\n",
              "      --hover-fill-color: #174EA6;\n",
              "      --disabled-fill-color: #AAA;\n",
              "      --disabled-bg-color: #DDD;\n",
              "  }\n",
              "\n",
              "  [theme=dark] .colab-df-quickchart {\n",
              "      --bg-color: #3B4455;\n",
              "      --fill-color: #D2E3FC;\n",
              "      --hover-bg-color: #434B5C;\n",
              "      --hover-fill-color: #FFFFFF;\n",
              "      --disabled-bg-color: #3B4455;\n",
              "      --disabled-fill-color: #666;\n",
              "  }\n",
              "\n",
              "  .colab-df-quickchart {\n",
              "    background-color: var(--bg-color);\n",
              "    border: none;\n",
              "    border-radius: 50%;\n",
              "    cursor: pointer;\n",
              "    display: none;\n",
              "    fill: var(--fill-color);\n",
              "    height: 32px;\n",
              "    padding: 0;\n",
              "    width: 32px;\n",
              "  }\n",
              "\n",
              "  .colab-df-quickchart:hover {\n",
              "    background-color: var(--hover-bg-color);\n",
              "    box-shadow: 0 1px 2px rgba(60, 64, 67, 0.3), 0 1px 3px 1px rgba(60, 64, 67, 0.15);\n",
              "    fill: var(--button-hover-fill-color);\n",
              "  }\n",
              "\n",
              "  .colab-df-quickchart-complete:disabled,\n",
              "  .colab-df-quickchart-complete:disabled:hover {\n",
              "    background-color: var(--disabled-bg-color);\n",
              "    fill: var(--disabled-fill-color);\n",
              "    box-shadow: none;\n",
              "  }\n",
              "\n",
              "  .colab-df-spinner {\n",
              "    border: 2px solid var(--fill-color);\n",
              "    border-color: transparent;\n",
              "    border-bottom-color: var(--fill-color);\n",
              "    animation:\n",
              "      spin 1s steps(1) infinite;\n",
              "  }\n",
              "\n",
              "  @keyframes spin {\n",
              "    0% {\n",
              "      border-color: transparent;\n",
              "      border-bottom-color: var(--fill-color);\n",
              "      border-left-color: var(--fill-color);\n",
              "    }\n",
              "    20% {\n",
              "      border-color: transparent;\n",
              "      border-left-color: var(--fill-color);\n",
              "      border-top-color: var(--fill-color);\n",
              "    }\n",
              "    30% {\n",
              "      border-color: transparent;\n",
              "      border-left-color: var(--fill-color);\n",
              "      border-top-color: var(--fill-color);\n",
              "      border-right-color: var(--fill-color);\n",
              "    }\n",
              "    40% {\n",
              "      border-color: transparent;\n",
              "      border-right-color: var(--fill-color);\n",
              "      border-top-color: var(--fill-color);\n",
              "    }\n",
              "    60% {\n",
              "      border-color: transparent;\n",
              "      border-right-color: var(--fill-color);\n",
              "    }\n",
              "    80% {\n",
              "      border-color: transparent;\n",
              "      border-right-color: var(--fill-color);\n",
              "      border-bottom-color: var(--fill-color);\n",
              "    }\n",
              "    90% {\n",
              "      border-color: transparent;\n",
              "      border-bottom-color: var(--fill-color);\n",
              "    }\n",
              "  }\n",
              "</style>\n",
              "\n",
              "  <script>\n",
              "    async function quickchart(key) {\n",
              "      const quickchartButtonEl =\n",
              "        document.querySelector('#' + key + ' button');\n",
              "      quickchartButtonEl.disabled = true;  // To prevent multiple clicks.\n",
              "      quickchartButtonEl.classList.add('colab-df-spinner');\n",
              "      try {\n",
              "        const charts = await google.colab.kernel.invokeFunction(\n",
              "            'suggestCharts', [key], {});\n",
              "      } catch (error) {\n",
              "        console.error('Error during call to suggestCharts:', error);\n",
              "      }\n",
              "      quickchartButtonEl.classList.remove('colab-df-spinner');\n",
              "      quickchartButtonEl.classList.add('colab-df-quickchart-complete');\n",
              "    }\n",
              "    (() => {\n",
              "      let quickchartButtonEl =\n",
              "        document.querySelector('#df-2d141cf5-b678-44dd-95a1-ddc51c177716 button');\n",
              "      quickchartButtonEl.style.display =\n",
              "        google.colab.kernel.accessAllowed ? 'block' : 'none';\n",
              "    })();\n",
              "  </script>\n",
              "</div>\n",
              "\n",
              "    </div>\n",
              "  </div>\n"
            ],
            "application/vnd.google.colaboratory.intrinsic+json": {
              "type": "dataframe",
              "variable_name": "grades",
              "summary": "{\n  \"name\": \"grades\",\n  \"rows\": 100,\n  \"fields\": [\n    {\n      \"column\": \"G1\",\n      \"properties\": {\n        \"dtype\": \"number\",\n        \"std\": 5.660011131623419,\n        \"min\": 0.0,\n        \"max\": 19.75,\n        \"num_unique_values\": 55,\n        \"samples\": [\n          13.25,\n          14.0,\n          18.5\n        ],\n        \"semantic_type\": \"\",\n        \"description\": \"\"\n      }\n    },\n    {\n      \"column\": \"G2\",\n      \"properties\": {\n        \"dtype\": \"number\",\n        \"std\": 6.247413100999921,\n        \"min\": 0.25,\n        \"max\": 20.0,\n        \"num_unique_values\": 58,\n        \"samples\": [\n          16.0,\n          10.0,\n          2.75\n        ],\n        \"semantic_type\": \"\",\n        \"description\": \"\"\n      }\n    },\n    {\n      \"column\": \"Admitted\",\n      \"properties\": {\n        \"dtype\": \"number\",\n        \"std\": 0,\n        \"min\": 0,\n        \"max\": 1,\n        \"num_unique_values\": 2,\n        \"samples\": [\n          0,\n          1\n        ],\n        \"semantic_type\": \"\",\n        \"description\": \"\"\n      }\n    }\n  ]\n}"
            }
          },
          "metadata": {},
          "execution_count": 22
        }
      ],
      "source": [
        "grades = pd.read_csv('data/grades.csv')\n",
        "\n",
        "# Extraction des caractéristiques\n",
        "Xgrades = grades.iloc[:, :-1].values # Premières colonnes, selecting all columns except the last\n",
        "Ygrades = grades.iloc[:,  -1].values # Dernière colonne\n",
        "\n",
        "Xgrades_norm = Xgrades/20 # Nous savons le maximum\n",
        "\n",
        "grades.head()"
      ]
    },
    {
      "cell_type": "code",
      "execution_count": 23,
      "metadata": {
        "id": "FInHuKAwl7XX",
        "outputId": "6efda5aa-ab8f-4e9f-b1d9-9717f826e5f0",
        "colab": {
          "base_uri": "https://localhost:8080/",
          "height": 206
        }
      },
      "outputs": [
        {
          "output_type": "execute_result",
          "data": {
            "text/plain": [
              "    age  gender  height_cm  weight_kg  body fat_%  diastolic  systolic  \\\n",
              "0  27.0       1      172.3      75.24        21.3       80.0     130.0   \n",
              "1  25.0       1      165.0      55.80        15.7       77.0     126.0   \n",
              "2  31.0       1      179.6      78.00        20.1       92.0     152.0   \n",
              "3  32.0       1      174.5      71.10        18.4       76.0     147.0   \n",
              "4  28.0       1      173.8      67.70        17.1       70.0     127.0   \n",
              "\n",
              "   gripForce  sit and bend forward_cm  sit-ups counts  broad jump_cm class  \n",
              "0       54.9                     18.4            60.0          217.0     C  \n",
              "1       36.4                     16.3            53.0          229.0     A  \n",
              "2       44.8                     12.0            49.0          181.0     C  \n",
              "3       41.4                     15.2            53.0          219.0     B  \n",
              "4       43.5                     27.1            45.0          217.0     B  "
            ],
            "text/html": [
              "\n",
              "  <div id=\"df-d5de470c-5857-49c2-8f7a-bc1310293699\" class=\"colab-df-container\">\n",
              "    <div>\n",
              "<style scoped>\n",
              "    .dataframe tbody tr th:only-of-type {\n",
              "        vertical-align: middle;\n",
              "    }\n",
              "\n",
              "    .dataframe tbody tr th {\n",
              "        vertical-align: top;\n",
              "    }\n",
              "\n",
              "    .dataframe thead th {\n",
              "        text-align: right;\n",
              "    }\n",
              "</style>\n",
              "<table border=\"1\" class=\"dataframe\">\n",
              "  <thead>\n",
              "    <tr style=\"text-align: right;\">\n",
              "      <th></th>\n",
              "      <th>age</th>\n",
              "      <th>gender</th>\n",
              "      <th>height_cm</th>\n",
              "      <th>weight_kg</th>\n",
              "      <th>body fat_%</th>\n",
              "      <th>diastolic</th>\n",
              "      <th>systolic</th>\n",
              "      <th>gripForce</th>\n",
              "      <th>sit and bend forward_cm</th>\n",
              "      <th>sit-ups counts</th>\n",
              "      <th>broad jump_cm</th>\n",
              "      <th>class</th>\n",
              "    </tr>\n",
              "  </thead>\n",
              "  <tbody>\n",
              "    <tr>\n",
              "      <th>0</th>\n",
              "      <td>27.0</td>\n",
              "      <td>1</td>\n",
              "      <td>172.3</td>\n",
              "      <td>75.24</td>\n",
              "      <td>21.3</td>\n",
              "      <td>80.0</td>\n",
              "      <td>130.0</td>\n",
              "      <td>54.9</td>\n",
              "      <td>18.4</td>\n",
              "      <td>60.0</td>\n",
              "      <td>217.0</td>\n",
              "      <td>C</td>\n",
              "    </tr>\n",
              "    <tr>\n",
              "      <th>1</th>\n",
              "      <td>25.0</td>\n",
              "      <td>1</td>\n",
              "      <td>165.0</td>\n",
              "      <td>55.80</td>\n",
              "      <td>15.7</td>\n",
              "      <td>77.0</td>\n",
              "      <td>126.0</td>\n",
              "      <td>36.4</td>\n",
              "      <td>16.3</td>\n",
              "      <td>53.0</td>\n",
              "      <td>229.0</td>\n",
              "      <td>A</td>\n",
              "    </tr>\n",
              "    <tr>\n",
              "      <th>2</th>\n",
              "      <td>31.0</td>\n",
              "      <td>1</td>\n",
              "      <td>179.6</td>\n",
              "      <td>78.00</td>\n",
              "      <td>20.1</td>\n",
              "      <td>92.0</td>\n",
              "      <td>152.0</td>\n",
              "      <td>44.8</td>\n",
              "      <td>12.0</td>\n",
              "      <td>49.0</td>\n",
              "      <td>181.0</td>\n",
              "      <td>C</td>\n",
              "    </tr>\n",
              "    <tr>\n",
              "      <th>3</th>\n",
              "      <td>32.0</td>\n",
              "      <td>1</td>\n",
              "      <td>174.5</td>\n",
              "      <td>71.10</td>\n",
              "      <td>18.4</td>\n",
              "      <td>76.0</td>\n",
              "      <td>147.0</td>\n",
              "      <td>41.4</td>\n",
              "      <td>15.2</td>\n",
              "      <td>53.0</td>\n",
              "      <td>219.0</td>\n",
              "      <td>B</td>\n",
              "    </tr>\n",
              "    <tr>\n",
              "      <th>4</th>\n",
              "      <td>28.0</td>\n",
              "      <td>1</td>\n",
              "      <td>173.8</td>\n",
              "      <td>67.70</td>\n",
              "      <td>17.1</td>\n",
              "      <td>70.0</td>\n",
              "      <td>127.0</td>\n",
              "      <td>43.5</td>\n",
              "      <td>27.1</td>\n",
              "      <td>45.0</td>\n",
              "      <td>217.0</td>\n",
              "      <td>B</td>\n",
              "    </tr>\n",
              "  </tbody>\n",
              "</table>\n",
              "</div>\n",
              "    <div class=\"colab-df-buttons\">\n",
              "\n",
              "  <div class=\"colab-df-container\">\n",
              "    <button class=\"colab-df-convert\" onclick=\"convertToInteractive('df-d5de470c-5857-49c2-8f7a-bc1310293699')\"\n",
              "            title=\"Convert this dataframe to an interactive table.\"\n",
              "            style=\"display:none;\">\n",
              "\n",
              "  <svg xmlns=\"http://www.w3.org/2000/svg\" height=\"24px\" viewBox=\"0 -960 960 960\">\n",
              "    <path d=\"M120-120v-720h720v720H120Zm60-500h600v-160H180v160Zm220 220h160v-160H400v160Zm0 220h160v-160H400v160ZM180-400h160v-160H180v160Zm440 0h160v-160H620v160ZM180-180h160v-160H180v160Zm440 0h160v-160H620v160Z\"/>\n",
              "  </svg>\n",
              "    </button>\n",
              "\n",
              "  <style>\n",
              "    .colab-df-container {\n",
              "      display:flex;\n",
              "      gap: 12px;\n",
              "    }\n",
              "\n",
              "    .colab-df-convert {\n",
              "      background-color: #E8F0FE;\n",
              "      border: none;\n",
              "      border-radius: 50%;\n",
              "      cursor: pointer;\n",
              "      display: none;\n",
              "      fill: #1967D2;\n",
              "      height: 32px;\n",
              "      padding: 0 0 0 0;\n",
              "      width: 32px;\n",
              "    }\n",
              "\n",
              "    .colab-df-convert:hover {\n",
              "      background-color: #E2EBFA;\n",
              "      box-shadow: 0px 1px 2px rgba(60, 64, 67, 0.3), 0px 1px 3px 1px rgba(60, 64, 67, 0.15);\n",
              "      fill: #174EA6;\n",
              "    }\n",
              "\n",
              "    .colab-df-buttons div {\n",
              "      margin-bottom: 4px;\n",
              "    }\n",
              "\n",
              "    [theme=dark] .colab-df-convert {\n",
              "      background-color: #3B4455;\n",
              "      fill: #D2E3FC;\n",
              "    }\n",
              "\n",
              "    [theme=dark] .colab-df-convert:hover {\n",
              "      background-color: #434B5C;\n",
              "      box-shadow: 0px 1px 3px 1px rgba(0, 0, 0, 0.15);\n",
              "      filter: drop-shadow(0px 1px 2px rgba(0, 0, 0, 0.3));\n",
              "      fill: #FFFFFF;\n",
              "    }\n",
              "  </style>\n",
              "\n",
              "    <script>\n",
              "      const buttonEl =\n",
              "        document.querySelector('#df-d5de470c-5857-49c2-8f7a-bc1310293699 button.colab-df-convert');\n",
              "      buttonEl.style.display =\n",
              "        google.colab.kernel.accessAllowed ? 'block' : 'none';\n",
              "\n",
              "      async function convertToInteractive(key) {\n",
              "        const element = document.querySelector('#df-d5de470c-5857-49c2-8f7a-bc1310293699');\n",
              "        const dataTable =\n",
              "          await google.colab.kernel.invokeFunction('convertToInteractive',\n",
              "                                                    [key], {});\n",
              "        if (!dataTable) return;\n",
              "\n",
              "        const docLinkHtml = 'Like what you see? Visit the ' +\n",
              "          '<a target=\"_blank\" href=https://colab.research.google.com/notebooks/data_table.ipynb>data table notebook</a>'\n",
              "          + ' to learn more about interactive tables.';\n",
              "        element.innerHTML = '';\n",
              "        dataTable['output_type'] = 'display_data';\n",
              "        await google.colab.output.renderOutput(dataTable, element);\n",
              "        const docLink = document.createElement('div');\n",
              "        docLink.innerHTML = docLinkHtml;\n",
              "        element.appendChild(docLink);\n",
              "      }\n",
              "    </script>\n",
              "  </div>\n",
              "\n",
              "\n",
              "<div id=\"df-7be6ecef-0085-4551-9c43-2229042df11d\">\n",
              "  <button class=\"colab-df-quickchart\" onclick=\"quickchart('df-7be6ecef-0085-4551-9c43-2229042df11d')\"\n",
              "            title=\"Suggest charts\"\n",
              "            style=\"display:none;\">\n",
              "\n",
              "<svg xmlns=\"http://www.w3.org/2000/svg\" height=\"24px\"viewBox=\"0 0 24 24\"\n",
              "     width=\"24px\">\n",
              "    <g>\n",
              "        <path d=\"M19 3H5c-1.1 0-2 .9-2 2v14c0 1.1.9 2 2 2h14c1.1 0 2-.9 2-2V5c0-1.1-.9-2-2-2zM9 17H7v-7h2v7zm4 0h-2V7h2v10zm4 0h-2v-4h2v4z\"/>\n",
              "    </g>\n",
              "</svg>\n",
              "  </button>\n",
              "\n",
              "<style>\n",
              "  .colab-df-quickchart {\n",
              "      --bg-color: #E8F0FE;\n",
              "      --fill-color: #1967D2;\n",
              "      --hover-bg-color: #E2EBFA;\n",
              "      --hover-fill-color: #174EA6;\n",
              "      --disabled-fill-color: #AAA;\n",
              "      --disabled-bg-color: #DDD;\n",
              "  }\n",
              "\n",
              "  [theme=dark] .colab-df-quickchart {\n",
              "      --bg-color: #3B4455;\n",
              "      --fill-color: #D2E3FC;\n",
              "      --hover-bg-color: #434B5C;\n",
              "      --hover-fill-color: #FFFFFF;\n",
              "      --disabled-bg-color: #3B4455;\n",
              "      --disabled-fill-color: #666;\n",
              "  }\n",
              "\n",
              "  .colab-df-quickchart {\n",
              "    background-color: var(--bg-color);\n",
              "    border: none;\n",
              "    border-radius: 50%;\n",
              "    cursor: pointer;\n",
              "    display: none;\n",
              "    fill: var(--fill-color);\n",
              "    height: 32px;\n",
              "    padding: 0;\n",
              "    width: 32px;\n",
              "  }\n",
              "\n",
              "  .colab-df-quickchart:hover {\n",
              "    background-color: var(--hover-bg-color);\n",
              "    box-shadow: 0 1px 2px rgba(60, 64, 67, 0.3), 0 1px 3px 1px rgba(60, 64, 67, 0.15);\n",
              "    fill: var(--button-hover-fill-color);\n",
              "  }\n",
              "\n",
              "  .colab-df-quickchart-complete:disabled,\n",
              "  .colab-df-quickchart-complete:disabled:hover {\n",
              "    background-color: var(--disabled-bg-color);\n",
              "    fill: var(--disabled-fill-color);\n",
              "    box-shadow: none;\n",
              "  }\n",
              "\n",
              "  .colab-df-spinner {\n",
              "    border: 2px solid var(--fill-color);\n",
              "    border-color: transparent;\n",
              "    border-bottom-color: var(--fill-color);\n",
              "    animation:\n",
              "      spin 1s steps(1) infinite;\n",
              "  }\n",
              "\n",
              "  @keyframes spin {\n",
              "    0% {\n",
              "      border-color: transparent;\n",
              "      border-bottom-color: var(--fill-color);\n",
              "      border-left-color: var(--fill-color);\n",
              "    }\n",
              "    20% {\n",
              "      border-color: transparent;\n",
              "      border-left-color: var(--fill-color);\n",
              "      border-top-color: var(--fill-color);\n",
              "    }\n",
              "    30% {\n",
              "      border-color: transparent;\n",
              "      border-left-color: var(--fill-color);\n",
              "      border-top-color: var(--fill-color);\n",
              "      border-right-color: var(--fill-color);\n",
              "    }\n",
              "    40% {\n",
              "      border-color: transparent;\n",
              "      border-right-color: var(--fill-color);\n",
              "      border-top-color: var(--fill-color);\n",
              "    }\n",
              "    60% {\n",
              "      border-color: transparent;\n",
              "      border-right-color: var(--fill-color);\n",
              "    }\n",
              "    80% {\n",
              "      border-color: transparent;\n",
              "      border-right-color: var(--fill-color);\n",
              "      border-bottom-color: var(--fill-color);\n",
              "    }\n",
              "    90% {\n",
              "      border-color: transparent;\n",
              "      border-bottom-color: var(--fill-color);\n",
              "    }\n",
              "  }\n",
              "</style>\n",
              "\n",
              "  <script>\n",
              "    async function quickchart(key) {\n",
              "      const quickchartButtonEl =\n",
              "        document.querySelector('#' + key + ' button');\n",
              "      quickchartButtonEl.disabled = true;  // To prevent multiple clicks.\n",
              "      quickchartButtonEl.classList.add('colab-df-spinner');\n",
              "      try {\n",
              "        const charts = await google.colab.kernel.invokeFunction(\n",
              "            'suggestCharts', [key], {});\n",
              "      } catch (error) {\n",
              "        console.error('Error during call to suggestCharts:', error);\n",
              "      }\n",
              "      quickchartButtonEl.classList.remove('colab-df-spinner');\n",
              "      quickchartButtonEl.classList.add('colab-df-quickchart-complete');\n",
              "    }\n",
              "    (() => {\n",
              "      let quickchartButtonEl =\n",
              "        document.querySelector('#df-7be6ecef-0085-4551-9c43-2229042df11d button');\n",
              "      quickchartButtonEl.style.display =\n",
              "        google.colab.kernel.accessAllowed ? 'block' : 'none';\n",
              "    })();\n",
              "  </script>\n",
              "</div>\n",
              "\n",
              "    </div>\n",
              "  </div>\n"
            ],
            "application/vnd.google.colaboratory.intrinsic+json": {
              "type": "dataframe",
              "variable_name": "body",
              "summary": "{\n  \"name\": \"body\",\n  \"rows\": 13393,\n  \"fields\": [\n    {\n      \"column\": \"age\",\n      \"properties\": {\n        \"dtype\": \"number\",\n        \"std\": 13.625639475291196,\n        \"min\": 21.0,\n        \"max\": 64.0,\n        \"num_unique_values\": 44,\n        \"samples\": [\n          41.0,\n          49.0,\n          40.0\n        ],\n        \"semantic_type\": \"\",\n        \"description\": \"\"\n      }\n    },\n    {\n      \"column\": \"gender\",\n      \"properties\": {\n        \"dtype\": \"number\",\n        \"std\": 0,\n        \"min\": 0,\n        \"max\": 1,\n        \"num_unique_values\": 2,\n        \"samples\": [\n          0,\n          1\n        ],\n        \"semantic_type\": \"\",\n        \"description\": \"\"\n      }\n    },\n    {\n      \"column\": \"height_cm\",\n      \"properties\": {\n        \"dtype\": \"number\",\n        \"std\": 8.426582550560244,\n        \"min\": 125.0,\n        \"max\": 193.8,\n        \"num_unique_values\": 467,\n        \"samples\": [\n          164.0,\n          171.5\n        ],\n        \"semantic_type\": \"\",\n        \"description\": \"\"\n      }\n    },\n    {\n      \"column\": \"weight_kg\",\n      \"properties\": {\n        \"dtype\": \"number\",\n        \"std\": 11.949666342707433,\n        \"min\": 26.3,\n        \"max\": 138.1,\n        \"num_unique_values\": 1398,\n        \"samples\": [\n          56.3,\n          64.3\n        ],\n        \"semantic_type\": \"\",\n        \"description\": \"\"\n      }\n    },\n    {\n      \"column\": \"body fat_%\",\n      \"properties\": {\n        \"dtype\": \"number\",\n        \"std\": 7.25684407992992,\n        \"min\": 3.0,\n        \"max\": 78.4,\n        \"num_unique_values\": 527,\n        \"samples\": [\n          29.5,\n          4.9\n        ],\n        \"semantic_type\": \"\",\n        \"description\": \"\"\n      }\n    },\n    {\n      \"column\": \"diastolic\",\n      \"properties\": {\n        \"dtype\": \"number\",\n        \"std\": 10.742033099909696,\n        \"min\": 0.0,\n        \"max\": 156.2,\n        \"num_unique_values\": 89,\n        \"samples\": [\n          57.0,\n          44.0\n        ],\n        \"semantic_type\": \"\",\n        \"description\": \"\"\n      }\n    },\n    {\n      \"column\": \"systolic\",\n      \"properties\": {\n        \"dtype\": \"number\",\n        \"std\": 14.713953521704212,\n        \"min\": 0.0,\n        \"max\": 201.0,\n        \"num_unique_values\": 102,\n        \"samples\": [\n          151.0,\n          158.0\n        ],\n        \"semantic_type\": \"\",\n        \"description\": \"\"\n      }\n    },\n    {\n      \"column\": \"gripForce\",\n      \"properties\": {\n        \"dtype\": \"number\",\n        \"std\": 10.624864027335304,\n        \"min\": 0.0,\n        \"max\": 70.5,\n        \"num_unique_values\": 550,\n        \"samples\": [\n          55.4,\n          53.4\n        ],\n        \"semantic_type\": \"\",\n        \"description\": \"\"\n      }\n    },\n    {\n      \"column\": \"sit and bend forward_cm\",\n      \"properties\": {\n        \"dtype\": \"number\",\n        \"std\": 8.456677009240193,\n        \"min\": -25.0,\n        \"max\": 213.0,\n        \"num_unique_values\": 528,\n        \"samples\": [\n          11.4,\n          -8.5\n        ],\n        \"semantic_type\": \"\",\n        \"description\": \"\"\n      }\n    },\n    {\n      \"column\": \"sit-ups counts\",\n      \"properties\": {\n        \"dtype\": \"number\",\n        \"std\": 14.276698326877371,\n        \"min\": 0.0,\n        \"max\": 80.0,\n        \"num_unique_values\": 81,\n        \"samples\": [\n          56.0,\n          60.0\n        ],\n        \"semantic_type\": \"\",\n        \"description\": \"\"\n      }\n    },\n    {\n      \"column\": \"broad jump_cm\",\n      \"properties\": {\n        \"dtype\": \"number\",\n        \"std\": 39.86800013263432,\n        \"min\": 0.0,\n        \"max\": 303.0,\n        \"num_unique_values\": 245,\n        \"samples\": [\n          151.0,\n          234.0\n        ],\n        \"semantic_type\": \"\",\n        \"description\": \"\"\n      }\n    },\n    {\n      \"column\": \"class\",\n      \"properties\": {\n        \"dtype\": \"category\",\n        \"num_unique_values\": 4,\n        \"samples\": [\n          \"A\",\n          \"D\"\n        ],\n        \"semantic_type\": \"\",\n        \"description\": \"\"\n      }\n    }\n  ]\n}"
            }
          },
          "metadata": {},
          "execution_count": 23
        }
      ],
      "source": [
        "# https://www.kaggle.com/datasets/kukuroo3/body-performance-data\n",
        "body = pd.read_csv('data/bodyPerformance.csv')\n",
        "body['gender'] = (body['gender'] == 'M').astype(int)  #encoding\n",
        "body.head()"
      ]
    },
    {
      "cell_type": "code",
      "execution_count": 24,
      "metadata": {
        "id": "OB67L8PJl7XX",
        "outputId": "5c7aaa78-7528-4558-ec48-42309414eb54",
        "colab": {
          "base_uri": "https://localhost:8080/"
        }
      },
      "outputs": [
        {
          "output_type": "execute_result",
          "data": {
            "text/plain": [
              "((10714, 11), (2679, 11))"
            ]
          },
          "metadata": {},
          "execution_count": 24
        }
      ],
      "source": [
        "Xbody = body.iloc[:, :-1].values # First columns\n",
        "Ybody = body.iloc[:,  -1].values # Last column\n",
        "\n",
        "Xbody_train, Xbody_test, Ybody_train, Ybody_test = train_test_split(Xbody, Ybody,\n",
        "                                                                    test_size   =0.2, # 20% for test\n",
        "                                                                    random_state=0,\n",
        "                                                                    stratify    =Ybody) # stratification This prevents the scenario where one set is over-represented by certain classes, which can lead to biased model performance and evaluation.\n",
        "scaler = StandardScaler()\n",
        "\n",
        "Xbody_train = scaler.fit_transform(Xbody_train)\n",
        "Xbody_test  = scaler.transform(Xbody_test)\n",
        "\n",
        "Xbody_train.shape, Xbody_test.shape"
      ]
    },
    {
      "cell_type": "markdown",
      "metadata": {
        "id": "06WV5N5Ll7XX"
      },
      "source": [
        "### II.1. Binary Logistic Regression\n",
        "\n",
        "We want to test the pupose of:\n",
        "- Bias parameter\n",
        "- Data normalization\n",
        "- Learning rate\n",
        "\n",
        "So, we run a series of experiments.\n"
      ]
    },
    {
      "cell_type": "code",
      "execution_count": 25,
      "metadata": {
        "id": "z_rczElml7XX",
        "outputId": "ef43b94a-4d2b-481d-f701-dd0a7c4bf5e8",
        "colab": {
          "base_uri": "https://localhost:8080/"
        }
      },
      "outputs": [
        {
          "output_type": "stream",
          "name": "stdout",
          "text": [
            "DONE\n"
          ]
        }
      ],
      "source": [
        "# This function will be used to draw a decision boundary given a model\n",
        "# model: binary clasification model\n",
        "# ax: an object of type matplotlib.axes.Axes; the axes on which we will draw\n",
        "# xrange: a list of points on the X axis (the first feature)\n",
        "# yrange: a list of points on the Y axis (the second feature)\n",
        "# color: the color of the decision boundary\n",
        "# label: the label of the decision boundary\n",
        "def draw2D(model, ax, xrange, yrange, color='red', label=''):\n",
        "    # Create a matrix of (xrange X yrange): our drawing map\n",
        "    XX   = [[[xr, yr] for xr in xrange] for yr in yrange]\n",
        "    # Represent it as a matrix [(xrange X yrange)/2 samples, 2 features]\n",
        "    XX   = np.array(XX).reshape(-1, 2)\n",
        "    # Predict the probabilities (estimation) et retransform them into our map (xrange X yrange)\n",
        "    grid = model.predict(XX).reshape(len(xrange), len(yrange))\n",
        "    # Draw the lines which cross the value 0.5\n",
        "    cs   = ax.contour(xrange, yrange, grid, colors=[color], linewidths=(1), linestyles=('-'),levels=[0.5])\n",
        "    # Assign the label to the boundary\n",
        "#     plt.clabel(cs, inline=1, fontsize=10)\n",
        "#     cs.collections[0].set_label(label)\n",
        "    fmt = {cs.levels[0]: label}\n",
        "    ax.clabel(cs, cs.levels, inline=True, fmt=fmt, fontsize=14)\n",
        "\n",
        "print('DONE')"
      ]
    },
    {
      "cell_type": "markdown",
      "metadata": {
        "id": "QtK0OnZ0l7XY"
      },
      "source": [
        "#### II.1.1. Bias\n",
        "\n",
        "We want to test what the bias really does (why it is useful)\n",
        "To this end, we took a linearly separated problem: a student is admitted if the average of the grades is higher or equals 10.\n",
        "\n",
        "Because the results can be plotted, we will validate the models visually.\n",
        "For this, we trained two models:\n",
        "- **Plain**: without a bias\n",
        "- **Bias**: with a bias"
      ]
    },
    {
      "cell_type": "code",
      "execution_count": 26,
      "metadata": {
        "id": "VfFS-MHNl7XY",
        "outputId": "128a8abb-41fa-42d6-8e8e-808cacfbf679",
        "colab": {
          "base_uri": "https://localhost:8080/",
          "height": 470
        }
      },
      "outputs": [
        {
          "output_type": "display_data",
          "data": {
            "text/plain": [
              "<Figure size 1000x500 with 1 Axes>"
            ],
            "image/png": "[encoded data removed]"
          },
          "metadata": {}
        }
      ],
      "source": [
        "\n",
        "Xgrades_train = Xgrades_norm[:80, :]\n",
        "Xgrades_test  = Xgrades_norm[80:, :]\n",
        "Ygrades_train = Ygrades[:80   ]\n",
        "Ygrades_test  = Ygrades[80:   ]\n",
        "\n",
        "yes_train = Ygrades_train == 1\n",
        "yes_test  = Ygrades_test  == 1\n",
        "\n",
        "fig, ax = plt.subplots(figsize=(10, 5))\n",
        "ax.scatter(Xgrades_train[yes_train, 0],\n",
        "           Xgrades_train[yes_train, 1],\n",
        "           color='green', marker='o', label='Admitted (train)')\n",
        "ax.scatter(Xgrades_train[~yes_train, 0],\n",
        "           Xgrades_train[~yes_train, 1],\n",
        "           color='green', marker='x', label='Failed (train)')\n",
        "ax.scatter(Xgrades_test[yes_test, 0],\n",
        "           Xgrades_test[yes_test, 1],\n",
        "           color='red', marker='o', label='Admitted (test)')\n",
        "ax.scatter(Xgrades_test[~yes_test, 0],\n",
        "           Xgrades_test[~yes_test, 1],\n",
        "           color='red', marker='x', label='Failed (test)')\n",
        "\n",
        "\n",
        "\n",
        "# Create grades space: btween 0 and 1 (normalized) with a resolution of 50\n",
        "xrange = np.linspace(0, 1, 50) # Grade 1\n",
        "yrange = np.linspace(0, 1, 50) # Grade 2\n",
        "\n",
        "# Dessiner la ligne de séparation dans une régression linéaire\n",
        "LR_plain = LogisticRegression(penalty=None, fit_intercept=False)\n",
        "LR_plain.fit(Xgrades_train, Ygrades_train)\n",
        "draw2D(LR_plain, ax, xrange, yrange, label='Plain', color='blue')\n",
        "\n",
        "LR_bias = LogisticRegression(penalty=None)\n",
        "LR_bias.fit(Xgrades_train, Ygrades_train)\n",
        "draw2D(LR_bias, ax, xrange, yrange, label='Bias', color='blue')\n",
        "\n",
        "\n",
        "\n",
        "plt.xlabel('Grade 1')\n",
        "plt.ylabel('Grade 2')\n",
        "plt.legend(loc='upper right')\n",
        "plt.show()"
      ]
    },
    {
      "cell_type": "markdown",
      "metadata": {
        "id": "Id7k-PgKl7XY"
      },
      "source": [
        "**TODO: Analyze the results**\n",
        "\n",
        "1. Describe the results (what do you notice?)\n",
        "2. Discuss the effect of bias in this particular example (How it effects the decision boundary)\n",
        "\n",
        "**Answers**\n",
        "\n",
        "1. the plain model is highly inaccurate even on the training dataset, since its without bias, it's constrained to pass through the origin, whereas the bias model is more flexible and is able to seperate the classes (admitted and failed) on both the training and the test set\n",
        "2. For our linearly separable data, the bias term enhanced separation,which results in a precise, simple, and accurate decision boundary, in most real-world applications, using bias is essential for improving classification performance, and the decision boundary can be shifted to a more optimal location, without bias, the model is too restricted, leading to poor classification"
      ]
    },
    {
      "cell_type": "markdown",
      "metadata": {
        "id": "2f4CML7Zl7XY"
      },
      "source": [
        "#### II.1.2. Normalization\n",
        "\n",
        "We want to test if normalizing data affects model training.\n",
        "To this end, we want to test two aspects:\n",
        "1. Convergence speed\n",
        "1. Convergence quality\n",
        "\n",
        "This is why we trained two models: One on the original data and another on the normalized data. Then, we plotted the cost history according to the iterations."
      ]
    },
    {
      "cell_type": "code",
      "execution_count": 27,
      "metadata": {
        "id": "C7gGqxzTl7XZ",
        "outputId": "13d6087f-ce76-4a7b-a80f-e27db50dcbbe",
        "colab": {
          "base_uri": "https://localhost:8080/",
          "height": 449
        }
      },
      "outputs": [
        {
          "output_type": "display_data",
          "data": {
            "text/plain": [
              "<Figure size 640x480 with 1 Axes>"
            ],
            "image/png": "[encoded data removed]"
          },
          "metadata": {}
        }
      ],
      "source": [
        "# We will use SGD (stochastic gradient descent) Classifier instead of LogisticRegression\n",
        "# Because LogisticRegression does not permit learning rate definition\n",
        "# we will use \"partial_fit\" instead of \"fit\" which is a mini-batch implementation\n",
        "# but, we pass all the dataset\n",
        "\n",
        "ALPHA = 0.01\n",
        "ITMAX = 200\n",
        "\n",
        "LRbin_orig = SGDClassifier(penalty=None,\n",
        "                           warm_start=True,\n",
        "                           loss='log_loss',\n",
        "                           learning_rate='constant',\n",
        "                           eta0=ALPHA,\n",
        "                           shuffle=False\n",
        "                          )\n",
        "LRbin_norm = SGDClassifier(penalty=None,\n",
        "                           warm_start=True,\n",
        "                           loss='log_loss',\n",
        "                           learning_rate='constant',\n",
        "                           eta0=ALPHA,\n",
        "                           shuffle=False\n",
        "                          )\n",
        "\n",
        "classes = np.unique(Ygrades)\n",
        "costs_orig = []\n",
        "costs_norm = []\n",
        "\n",
        "for it in range(ITMAX):\n",
        "    LRbin_orig.partial_fit(Xgrades,      Ygrades, classes=classes)\n",
        "    LRbin_norm.partial_fit(Xgrades_norm, Ygrades, classes=classes)\n",
        "\n",
        "    costs_orig.append(log_loss(Ygrades, LRbin_orig.predict(Xgrades     )))\n",
        "    costs_norm.append(log_loss(Ygrades, LRbin_norm.predict(Xgrades_norm)))\n",
        "\n",
        "# Visualization\n",
        "plt.plot(costs_orig, label = 'Original')\n",
        "plt.plot(costs_norm  , label = 'Normalized')\n",
        "plt.xlabel('Iteration')\n",
        "plt.ylabel('Cost')\n",
        "plt.legend()\n",
        "#plt.autoscale()\n",
        "plt.show()"
      ]
    },
    {
      "cell_type": "markdown",
      "metadata": {
        "id": "b-j3Mgjml7Xe"
      },
      "source": [
        "**TODO: Analyze the results**\n",
        "\n",
        "We note that normalized-data-based model converge faster and better than the original-data-based one in term of iterations. Faster = it reaches its optimal point where it cannot enhance the error more quickly. Better: the error when it converges is less.\n",
        "\n",
        "1. Why faster? (explain how normalization can effect speed)\n",
        "2. Why better? (explain how normalization can effect quality)\n",
        "\n",
        "**Answers**\n",
        "\n",
        "1. Without normalization, features with large values will have large gradients thus they dominate the updates, while smaller features change very slowly, but when the dataset is normalized, gradient descent updates all features uniformly, the optimizer takes direct steps towards the minimum.\n",
        "2. Normalization ensures all features contribute proportionally, preventing large-scale features from dominating and minimizing the impact of small ones,  so we will get a well-balanced decision boundary. It also reduces calculation errors associated with large numerical values, and got a more stable and generalizable model."
      ]
    },
    {
      "cell_type": "markdown",
      "metadata": {
        "id": "fVPUSbzll7Xe"
      },
      "source": [
        "#### II.1.3. Learning rate\n",
        "\n",
        "We want to test the effect of learning rate on training convergence. This is why we trained identical models with different learning rates and then plotted the cost history for each."
      ]
    },
    {
      "cell_type": "code",
      "execution_count": 28,
      "metadata": {
        "id": "Ejues13el7Xf",
        "outputId": "e9e1e2e4-d1d8-4338-baf7-f4f47e89431e",
        "colab": {
          "base_uri": "https://localhost:8080/",
          "height": 449
        }
      },
      "outputs": [
        {
          "output_type": "display_data",
          "data": {
            "text/plain": [
              "<Figure size 640x480 with 1 Axes>"
            ],
            "image/png": "[encoded data removed]"
          },
          "metadata": {}
        }
      ],
      "source": [
        "ITMAX  = 100\n",
        "alphas = [1., 0.1, 0.01, 0.001]\n",
        "\n",
        "classes = np.unique(Ygrades)\n",
        "\n",
        "# For each training rate, we train a separate model\n",
        "for alpha in alphas:\n",
        "    # Create a new logistic regression model\n",
        "    mdl = SGDClassifier(penalty=None,\n",
        "                        warm_start=True,\n",
        "                        loss='log_loss',\n",
        "                        learning_rate='constant',\n",
        "                        eta0=alpha,\n",
        "                        shuffle=False\n",
        "                        )\n",
        "    costs = []\n",
        "    for it in range(ITMAX):\n",
        "        # train the model\n",
        "        mdl.partial_fit(Xgrades_norm, Ygrades, classes=classes)\n",
        "        costs.append(log_loss(Ygrades, mdl.predict(Xgrades_norm)))\n",
        "\n",
        "    # Visualization\n",
        "    plt.plot(costs, label = 'alpha=' + str(alpha))\n",
        "\n",
        "plt.xlabel('Iterations')\n",
        "plt.ylabel('Cost')\n",
        "plt.legend()\n",
        "#plt.autoscale()\n",
        "plt.show()"
      ]
    },
    {
      "cell_type": "markdown",
      "metadata": {
        "id": "2aRogTjfl7Xf"
      },
      "source": [
        "**TODO: Analyze the results**\n",
        "\n",
        "We note that the model converges fast when alpha=0.1. In fact, it converges around iteration 15. When alpha is smaller, the model takes more iterations to converge. For example, the model with alpha=1.0 didn't converge even after 100 iterations.\n",
        "\n",
        "**Hypothesis:** a larger learning rate can lead to faster convergence\n",
        "\n",
        "1. Justify this hypothesis.\n",
        "2. Why we don't use a learning rate of 1 with just one iteration?\n",
        "3. Why we don't use a learning rate of 1 or more with manye iterations?\n",
        "\n",
        "**Answer**\n",
        "1. A larger learning rate accelerates convergence by taking larger steps towards the optimal solution per iteration.\n",
        "2. A single large step with a learning rate of 1 is unlikely to reach the optimal solution, one iteration cannot fully minimize the loss unless the problem (basically it's not sufficient)\n",
        "3. Large updates can make the parameters jump over the optimal solution repeatedly rather than gradually approaching it (it may even lead to complete divergence)\n",
        "\n",
        "so the best choice depends on the problem, and we often need to implement a learning rate scheduler to expriment with it (if the learning rate is too small we have slow converngence, if its too large it may lead to divergence, to know if a given learning rate is optimal it should provide fast convergence without instability)"
      ]
    },
    {
      "cell_type": "markdown",
      "metadata": {
        "id": "vkpS6Mgvl7Xf"
      },
      "source": [
        "### II.2. Multi-class Logistic Regression\n",
        "\n",
        "We want to compare some methods for Multi-class Logistic Regression:\n",
        "- Maximum entropy (MaxEnt)\n",
        "- One-vs-Rest  (OvR)\n",
        "- One-vs-One  (OvO)"
      ]
    },
    {
      "cell_type": "code",
      "execution_count": 29,
      "metadata": {
        "id": "Usmpgjr7l7Xf",
        "outputId": "400f084c-ad6f-4cee-9753-6e17bc398416",
        "colab": {
          "base_uri": "https://localhost:8080/"
        }
      },
      "outputs": [
        {
          "output_type": "execute_result",
          "data": {
            "text/plain": [
              "372"
            ]
          },
          "metadata": {},
          "execution_count": 29
        }
      ],
      "source": [
        "# https://goshippo.com/blog/measure-real-size-any-python-object/\n",
        "# This function will be used to get the size of a trained model\n",
        "def get_size(obj, seen=None):\n",
        "    \"\"\"Recursively finds size of objects\"\"\"\n",
        "    size = sys.getsizeof(obj)\n",
        "    if seen is None:\n",
        "        seen = set()\n",
        "    obj_id = id(obj)\n",
        "    if obj_id in seen:\n",
        "        return 0\n",
        "    # Important mark as seen *before* entering recursion to gracefully handle\n",
        "    # self-referential objects\n",
        "    seen.add(obj_id)\n",
        "    if isinstance(obj, dict):\n",
        "        size += sum([get_size(v, seen) for v in obj.values()])\n",
        "        size += sum([get_size(k, seen) for k in obj.keys()])\n",
        "    elif hasattr(obj, '__dict__'):\n",
        "        size += get_size(obj.__dict__, seen)\n",
        "    elif hasattr(obj, '__iter__') and not isinstance(obj, (str, bytes, bytearray)):\n",
        "        size += sum([get_size(i, seen) for i in obj])\n",
        "    return size\n",
        "\n",
        "get_size({'first': 0.21, 'second': 'string'})"
      ]
    },
    {
      "cell_type": "code",
      "execution_count": 30,
      "metadata": {
        "id": "XAxj-Op1l7Xg",
        "outputId": "b171567e-edff-412f-8499-ba0fb0d2f314",
        "colab": {
          "base_uri": "https://localhost:8080/"
        }
      },
      "outputs": [
        {
          "output_type": "stream",
          "name": "stdout",
          "text": [
            "DONE\n"
          ]
        }
      ],
      "source": [
        "# A function to facilitate testing multiple models\n",
        "# it depends on global variables: Xbody_train, Ybody_train, Xbody_test, Ybody_test\n",
        "def multi_eval(mdls, X_trn=Xbody_train, Y_trn=Ybody_train, X_tst=Xbody_test, Y_tst=Ybody_test):\n",
        "    # performance metrics\n",
        "    perf = {\n",
        "        'trn_time': [],\n",
        "        'tst_time': [],\n",
        "        'trn_acc' : [],\n",
        "        'tst_acc' : [],\n",
        "        'size'    : [],\n",
        "    }\n",
        "\n",
        "    for mdl in mdls:\n",
        "        start_time = timeit.default_timer()\n",
        "        mdl.fit(X_trn, Y_trn)\n",
        "        perf['trn_time'].append(timeit.default_timer() - start_time)\n",
        "\n",
        "        Y_pred = mdl.predict(X_trn)\n",
        "        perf['trn_acc'].append(accuracy_score(Y_trn, Y_pred))\n",
        "\n",
        "        start_time = timeit.default_timer()\n",
        "        Y_pred = mdl.predict(X_tst)\n",
        "        perf['tst_time'].append(timeit.default_timer() - start_time)\n",
        "        perf['tst_acc'].append(accuracy_score(Y_tst, Y_pred))\n",
        "\n",
        "        perf['size'].append(get_size(mdl))\n",
        "\n",
        "    return perf\n",
        "\n",
        "print('DONE')"
      ]
    },
    {
      "cell_type": "markdown",
      "metadata": {
        "id": "1I-dAwnDl7Xg"
      },
      "source": [
        "#### II.2.1. OvR vs. MaxEnt\n",
        "\n",
        "We want to compare OvR and MaxEnt based on accuracy. We know that the models are almost identical in term of parameters size. The difference:\n",
        "\n",
        "| Model   |      OvR      |  MaxEnt |\n",
        "| :--- |:---|:---|\n",
        "| Activation function |  Logistic | Softmax |\n",
        "| Cost function |  Binary cross entropy   | Cross entropy |\n",
        "| Estimation | Majority vote | Maximal probability |"
      ]
    },
    {
      "cell_type": "code",
      "execution_count": 31,
      "metadata": {
        "id": "TgRpLW4Ml7Xg",
        "outputId": "6332d778-c6d3-4496-ad53-e93aa1657a80",
        "colab": {
          "base_uri": "https://localhost:8080/",
          "height": 236
        }
      },
      "outputs": [
        {
          "output_type": "stream",
          "name": "stderr",
          "text": [
            "/usr/local/lib/python3.11/dist-packages/sklearn/linear_model/_logistic.py:1256: FutureWarning: 'multi_class' was deprecated in version 1.5 and will be removed in 1.7. Use OneVsRestClassifier(LogisticRegression(..)) instead. Leave it to its default value to avoid this warning.\n",
            "  warnings.warn(\n",
            "/usr/local/lib/python3.11/dist-packages/sklearn/linear_model/_logistic.py:1247: FutureWarning: 'multi_class' was deprecated in version 1.5 and will be removed in 1.7. From then on, it will always use 'multinomial'. Leave it to its default value to avoid this warning.\n",
            "  warnings.warn(\n"
          ]
        },
        {
          "output_type": "execute_result",
          "data": {
            "text/plain": [
              "  Algorithm  Size  Train time  Test time  Train Accuracy  Test Accuracy\n",
              "0       OvR  3647    0.076935   0.000512        0.593709       0.597984\n",
              "1      OvR2  6708    0.085914   0.001278        0.593709       0.597984\n",
              "2    MaxEnt  3563    0.081051   0.000497        0.620123       0.624860"
            ],
            "text/html": [
              "\n",
              "  <div id=\"df-74af693e-250d-4b73-8f65-41e604e6c56d\" class=\"colab-df-container\">\n",
              "    <div>\n",
              "<style scoped>\n",
              "    .dataframe tbody tr th:only-of-type {\n",
              "        vertical-align: middle;\n",
              "    }\n",
              "\n",
              "    .dataframe tbody tr th {\n",
              "        vertical-align: top;\n",
              "    }\n",
              "\n",
              "    .dataframe thead th {\n",
              "        text-align: right;\n",
              "    }\n",
              "</style>\n",
              "<table border=\"1\" class=\"dataframe\">\n",
              "  <thead>\n",
              "    <tr style=\"text-align: right;\">\n",
              "      <th></th>\n",
              "      <th>Algorithm</th>\n",
              "      <th>Size</th>\n",
              "      <th>Train time</th>\n",
              "      <th>Test time</th>\n",
              "      <th>Train Accuracy</th>\n",
              "      <th>Test Accuracy</th>\n",
              "    </tr>\n",
              "  </thead>\n",
              "  <tbody>\n",
              "    <tr>\n",
              "      <th>0</th>\n",
              "      <td>OvR</td>\n",
              "      <td>3647</td>\n",
              "      <td>0.076935</td>\n",
              "      <td>0.000512</td>\n",
              "      <td>0.593709</td>\n",
              "      <td>0.597984</td>\n",
              "    </tr>\n",
              "    <tr>\n",
              "      <th>1</th>\n",
              "      <td>OvR2</td>\n",
              "      <td>6708</td>\n",
              "      <td>0.085914</td>\n",
              "      <td>0.001278</td>\n",
              "      <td>0.593709</td>\n",
              "      <td>0.597984</td>\n",
              "    </tr>\n",
              "    <tr>\n",
              "      <th>2</th>\n",
              "      <td>MaxEnt</td>\n",
              "      <td>3563</td>\n",
              "      <td>0.081051</td>\n",
              "      <td>0.000497</td>\n",
              "      <td>0.620123</td>\n",
              "      <td>0.624860</td>\n",
              "    </tr>\n",
              "  </tbody>\n",
              "</table>\n",
              "</div>\n",
              "    <div class=\"colab-df-buttons\">\n",
              "\n",
              "  <div class=\"colab-df-container\">\n",
              "    <button class=\"colab-df-convert\" onclick=\"convertToInteractive('df-74af693e-250d-4b73-8f65-41e604e6c56d')\"\n",
              "            title=\"Convert this dataframe to an interactive table.\"\n",
              "            style=\"display:none;\">\n",
              "\n",
              "  <svg xmlns=\"http://www.w3.org/2000/svg\" height=\"24px\" viewBox=\"0 -960 960 960\">\n",
              "    <path d=\"M120-120v-720h720v720H120Zm60-500h600v-160H180v160Zm220 220h160v-160H400v160Zm0 220h160v-160H400v160ZM180-400h160v-160H180v160Zm440 0h160v-160H620v160ZM180-180h160v-160H180v160Zm440 0h160v-160H620v160Z\"/>\n",
              "  </svg>\n",
              "    </button>\n",
              "\n",
              "  <style>\n",
              "    .colab-df-container {\n",
              "      display:flex;\n",
              "      gap: 12px;\n",
              "    }\n",
              "\n",
              "    .colab-df-convert {\n",
              "      background-color: #E8F0FE;\n",
              "      border: none;\n",
              "      border-radius: 50%;\n",
              "      cursor: pointer;\n",
              "      display: none;\n",
              "      fill: #1967D2;\n",
              "      height: 32px;\n",
              "      padding: 0 0 0 0;\n",
              "      width: 32px;\n",
              "    }\n",
              "\n",
              "    .colab-df-convert:hover {\n",
              "      background-color: #E2EBFA;\n",
              "      box-shadow: 0px 1px 2px rgba(60, 64, 67, 0.3), 0px 1px 3px 1px rgba(60, 64, 67, 0.15);\n",
              "      fill: #174EA6;\n",
              "    }\n",
              "\n",
              "    .colab-df-buttons div {\n",
              "      margin-bottom: 4px;\n",
              "    }\n",
              "\n",
              "    [theme=dark] .colab-df-convert {\n",
              "      background-color: #3B4455;\n",
              "      fill: #D2E3FC;\n",
              "    }\n",
              "\n",
              "    [theme=dark] .colab-df-convert:hover {\n",
              "      background-color: #434B5C;\n",
              "      box-shadow: 0px 1px 3px 1px rgba(0, 0, 0, 0.15);\n",
              "      filter: drop-shadow(0px 1px 2px rgba(0, 0, 0, 0.3));\n",
              "      fill: #FFFFFF;\n",
              "    }\n",
              "  </style>\n",
              "\n",
              "    <script>\n",
              "      const buttonEl =\n",
              "        document.querySelector('#df-74af693e-250d-4b73-8f65-41e604e6c56d button.colab-df-convert');\n",
              "      buttonEl.style.display =\n",
              "        google.colab.kernel.accessAllowed ? 'block' : 'none';\n",
              "\n",
              "      async function convertToInteractive(key) {\n",
              "        const element = document.querySelector('#df-74af693e-250d-4b73-8f65-41e604e6c56d');\n",
              "        const dataTable =\n",
              "          await google.colab.kernel.invokeFunction('convertToInteractive',\n",
              "                                                    [key], {});\n",
              "        if (!dataTable) return;\n",
              "\n",
              "        const docLinkHtml = 'Like what you see? Visit the ' +\n",
              "          '<a target=\"_blank\" href=https://colab.research.google.com/notebooks/data_table.ipynb>data table notebook</a>'\n",
              "          + ' to learn more about interactive tables.';\n",
              "        element.innerHTML = '';\n",
              "        dataTable['output_type'] = 'display_data';\n",
              "        await google.colab.output.renderOutput(dataTable, element);\n",
              "        const docLink = document.createElement('div');\n",
              "        docLink.innerHTML = docLinkHtml;\n",
              "        element.appendChild(docLink);\n",
              "      }\n",
              "    </script>\n",
              "  </div>\n",
              "\n",
              "\n",
              "<div id=\"df-0cff586b-10c3-418c-bd5c-f33bf8fbae03\">\n",
              "  <button class=\"colab-df-quickchart\" onclick=\"quickchart('df-0cff586b-10c3-418c-bd5c-f33bf8fbae03')\"\n",
              "            title=\"Suggest charts\"\n",
              "            style=\"display:none;\">\n",
              "\n",
              "<svg xmlns=\"http://www.w3.org/2000/svg\" height=\"24px\"viewBox=\"0 0 24 24\"\n",
              "     width=\"24px\">\n",
              "    <g>\n",
              "        <path d=\"M19 3H5c-1.1 0-2 .9-2 2v14c0 1.1.9 2 2 2h14c1.1 0 2-.9 2-2V5c0-1.1-.9-2-2-2zM9 17H7v-7h2v7zm4 0h-2V7h2v10zm4 0h-2v-4h2v4z\"/>\n",
              "    </g>\n",
              "</svg>\n",
              "  </button>\n",
              "\n",
              "<style>\n",
              "  .colab-df-quickchart {\n",
              "      --bg-color: #E8F0FE;\n",
              "      --fill-color: #1967D2;\n",
              "      --hover-bg-color: #E2EBFA;\n",
              "      --hover-fill-color: #174EA6;\n",
              "      --disabled-fill-color: #AAA;\n",
              "      --disabled-bg-color: #DDD;\n",
              "  }\n",
              "\n",
              "  [theme=dark] .colab-df-quickchart {\n",
              "      --bg-color: #3B4455;\n",
              "      --fill-color: #D2E3FC;\n",
              "      --hover-bg-color: #434B5C;\n",
              "      --hover-fill-color: #FFFFFF;\n",
              "      --disabled-bg-color: #3B4455;\n",
              "      --disabled-fill-color: #666;\n",
              "  }\n",
              "\n",
              "  .colab-df-quickchart {\n",
              "    background-color: var(--bg-color);\n",
              "    border: none;\n",
              "    border-radius: 50%;\n",
              "    cursor: pointer;\n",
              "    display: none;\n",
              "    fill: var(--fill-color);\n",
              "    height: 32px;\n",
              "    padding: 0;\n",
              "    width: 32px;\n",
              "  }\n",
              "\n",
              "  .colab-df-quickchart:hover {\n",
              "    background-color: var(--hover-bg-color);\n",
              "    box-shadow: 0 1px 2px rgba(60, 64, 67, 0.3), 0 1px 3px 1px rgba(60, 64, 67, 0.15);\n",
              "    fill: var(--button-hover-fill-color);\n",
              "  }\n",
              "\n",
              "  .colab-df-quickchart-complete:disabled,\n",
              "  .colab-df-quickchart-complete:disabled:hover {\n",
              "    background-color: var(--disabled-bg-color);\n",
              "    fill: var(--disabled-fill-color);\n",
              "    box-shadow: none;\n",
              "  }\n",
              "\n",
              "  .colab-df-spinner {\n",
              "    border: 2px solid var(--fill-color);\n",
              "    border-color: transparent;\n",
              "    border-bottom-color: var(--fill-color);\n",
              "    animation:\n",
              "      spin 1s steps(1) infinite;\n",
              "  }\n",
              "\n",
              "  @keyframes spin {\n",
              "    0% {\n",
              "      border-color: transparent;\n",
              "      border-bottom-color: var(--fill-color);\n",
              "      border-left-color: var(--fill-color);\n",
              "    }\n",
              "    20% {\n",
              "      border-color: transparent;\n",
              "      border-left-color: var(--fill-color);\n",
              "      border-top-color: var(--fill-color);\n",
              "    }\n",
              "    30% {\n",
              "      border-color: transparent;\n",
              "      border-left-color: var(--fill-color);\n",
              "      border-top-color: var(--fill-color);\n",
              "      border-right-color: var(--fill-color);\n",
              "    }\n",
              "    40% {\n",
              "      border-color: transparent;\n",
              "      border-right-color: var(--fill-color);\n",
              "      border-top-color: var(--fill-color);\n",
              "    }\n",
              "    60% {\n",
              "      border-color: transparent;\n",
              "      border-right-color: var(--fill-color);\n",
              "    }\n",
              "    80% {\n",
              "      border-color: transparent;\n",
              "      border-right-color: var(--fill-color);\n",
              "      border-bottom-color: var(--fill-color);\n",
              "    }\n",
              "    90% {\n",
              "      border-color: transparent;\n",
              "      border-bottom-color: var(--fill-color);\n",
              "    }\n",
              "  }\n",
              "</style>\n",
              "\n",
              "  <script>\n",
              "    async function quickchart(key) {\n",
              "      const quickchartButtonEl =\n",
              "        document.querySelector('#' + key + ' button');\n",
              "      quickchartButtonEl.disabled = true;  // To prevent multiple clicks.\n",
              "      quickchartButtonEl.classList.add('colab-df-spinner');\n",
              "      try {\n",
              "        const charts = await google.colab.kernel.invokeFunction(\n",
              "            'suggestCharts', [key], {});\n",
              "      } catch (error) {\n",
              "        console.error('Error during call to suggestCharts:', error);\n",
              "      }\n",
              "      quickchartButtonEl.classList.remove('colab-df-spinner');\n",
              "      quickchartButtonEl.classList.add('colab-df-quickchart-complete');\n",
              "    }\n",
              "    (() => {\n",
              "      let quickchartButtonEl =\n",
              "        document.querySelector('#df-0cff586b-10c3-418c-bd5c-f33bf8fbae03 button');\n",
              "      quickchartButtonEl.style.display =\n",
              "        google.colab.kernel.accessAllowed ? 'block' : 'none';\n",
              "    })();\n",
              "  </script>\n",
              "</div>\n",
              "\n",
              "    </div>\n",
              "  </div>\n"
            ],
            "application/vnd.google.colaboratory.intrinsic+json": {
              "type": "dataframe",
              "summary": "{\n  \"name\": \"})\",\n  \"rows\": 3,\n  \"fields\": [\n    {\n      \"column\": \"Algorithm\",\n      \"properties\": {\n        \"dtype\": \"string\",\n        \"num_unique_values\": 3,\n        \"samples\": [\n          \"OvR\",\n          \"OvR2\",\n          \"MaxEnt\"\n        ],\n        \"semantic_type\": \"\",\n        \"description\": \"\"\n      }\n    },\n    {\n      \"column\": \"Size\",\n      \"properties\": {\n        \"dtype\": \"number\",\n        \"std\": 1792,\n        \"min\": 3563,\n        \"max\": 6708,\n        \"num_unique_values\": 3,\n        \"samples\": [\n          3647,\n          6708,\n          3563\n        ],\n        \"semantic_type\": \"\",\n        \"description\": \"\"\n      }\n    },\n    {\n      \"column\": \"Train time\",\n      \"properties\": {\n        \"dtype\": \"number\",\n        \"std\": 0.004494827471783339,\n        \"min\": 0.07693493200000034,\n        \"max\": 0.08591422200001375,\n        \"num_unique_values\": 3,\n        \"samples\": [\n          0.07693493200000034,\n          0.08591422200001375,\n          0.0810508319999883\n        ],\n        \"semantic_type\": \"\",\n        \"description\": \"\"\n      }\n    },\n    {\n      \"column\": \"Test time\",\n      \"properties\": {\n        \"dtype\": \"number\",\n        \"std\": 0.00044637042199110886,\n        \"min\": 0.0004973700000050485,\n        \"max\": 0.001277799999996887,\n        \"num_unique_values\": 3,\n        \"samples\": [\n          0.0005121700000074725,\n          0.001277799999996887,\n          0.0004973700000050485\n        ],\n        \"semantic_type\": \"\",\n        \"description\": \"\"\n      }\n    },\n    {\n      \"column\": \"Train Accuracy\",\n      \"properties\": {\n        \"dtype\": \"number\",\n        \"std\": 0.015250151780909438,\n        \"min\": 0.5937091655777488,\n        \"max\": 0.6201232032854209,\n        \"num_unique_values\": 2,\n        \"samples\": [\n          0.6201232032854209,\n          0.5937091655777488\n        ],\n        \"semantic_type\": \"\",\n        \"description\": \"\"\n      }\n    },\n    {\n      \"column\": \"Test Accuracy\",\n      \"properties\": {\n        \"dtype\": \"number\",\n        \"std\": 0.01551669256500677,\n        \"min\": 0.5979843225083986,\n        \"max\": 0.6248600223964166,\n        \"num_unique_values\": 2,\n        \"samples\": [\n          0.6248600223964166,\n          0.5979843225083986\n        ],\n        \"semantic_type\": \"\",\n        \"description\": \"\"\n      }\n    }\n  ]\n}"
            }
          },
          "metadata": {},
          "execution_count": 31
        }
      ],
      "source": [
        "# n_jobs: use just one CPU core\n",
        "# this one will be deprcated in future versions; it is faster than the next one\n",
        "ovr     = LogisticRegression(n_jobs=1, max_iter=200, solver='lbfgs', penalty=None, multi_class='ovr'        )\n",
        "# this one takes more size qnd time\n",
        "ovr2    = OneVsRestClassifier(LogisticRegression(solver='lbfgs', max_iter=200, penalty=None, n_jobs=1), n_jobs=1)\n",
        "maxent  = LogisticRegression(n_jobs=1, max_iter=200, solver='lbfgs', penalty=None, multi_class='multinomial')\n",
        "# ovrP     = LogisticRegression(n_jobs=2, max_iter=200, solver='lbfgs', penalty=None, multi_class='ovr'        )\n",
        "# maxentP  = LogisticRegression(n_jobs=2, max_iter=200, solver='lbfgs', penalty=None, multi_class='multinomial')\n",
        "\n",
        "perf = multi_eval([ovr, ovr2, maxent]) # [ovr, maxent, ovrP, maxentP]\n",
        "\n",
        "pd.DataFrame({\n",
        "    'Algorithm'     : ['OvR', 'OvR2', 'MaxEnt'], # ['OvR', 'MaxEnt', 'OvRP', 'MaxEntP']\n",
        "    'Size'          : perf['size'     ],\n",
        "    'Train time'    : perf['trn_time' ],\n",
        "    'Test time'     : perf['tst_time' ],\n",
        "    'Train Accuracy': perf['trn_acc'  ],\n",
        "    'Test Accuracy' : perf['tst_acc'  ],\n",
        "})"
      ]
    },
    {
      "cell_type": "markdown",
      "metadata": {
        "id": "6nYVhYw6l7Xh"
      },
      "source": [
        "**TODO: Analyze the results**\n",
        "\n",
        "We note that the size, train time, test time are almost the same.\n",
        "\n",
        "As for the accuracy (train and test), MaXent has better quality than OvR.\n",
        "\n",
        "1. Why (based on the boundary decision hyperplane/decision mechanism)?\n",
        "2. Why (based on parameters update manner)?\n",
        "\n",
        "**Answer**\n",
        "1. In OvR, each class has its own separate decision boundary (one per class), and each classifier only distinguishes one class vs. all others, and then the final prediction is based on the majority vote (highest confidence score from the binary classifiers), then the reduced accuracy can come from the fact that some decision regions have conflicting scores, meanwhilee: the MaxEnt(softmax) use one signle decision boundary, the softmax function compares all class probabilities simultaneously and selects the most probable class.\n",
        "2. Since MaxEnt updates parameters in a globally coordinated manner, it learns better feature separations and achieves higher accuracy compared to OvR, for example if a sample belongs to class A, the model not only increases confidence in class A but also actively decreases confidence in the other classes, unlike OvR where the updates for one class dont consider other classes directly,"
      ]
    },
    {
      "cell_type": "markdown",
      "metadata": {
        "id": "v_7a1IuPl7Xh"
      },
      "source": [
        "#### II.2.3. OvR vs. OvO\n",
        "\n",
        "We want to compare OvR and OvO using logistic regression.\n",
        "We duplicated the data so we will have many samples.\n"
      ]
    },
    {
      "cell_type": "code",
      "execution_count": 32,
      "metadata": {
        "id": "wU95pBzVl7Xh",
        "outputId": "928d1d30-253f-441b-ba17-ef19b4e37007",
        "colab": {
          "base_uri": "https://localhost:8080/",
          "height": 175
        }
      },
      "outputs": [
        {
          "output_type": "execute_result",
          "data": {
            "text/plain": [
              "        Algorithm  Size  Train time  Test time  Train Accuracy  Test Accuracy\n",
              "0  Sequential OvR  6692    6.677889   0.020267        0.593709       0.597984\n",
              "1  Sequential OvO  8390    5.502069   0.132493        0.623390       0.627473\n",
              "2  Concurrent OvR  7300    7.855315   0.020955        0.593709       0.597984\n",
              "3  Concurrent OvO  9288    3.670019   0.133227        0.623390       0.627473"
            ],
            "text/html": [
              "\n",
              "  <div id=\"df-6b4df9a0-a83d-439d-a44b-abf3de1d0f9f\" class=\"colab-df-container\">\n",
              "    <div>\n",
              "<style scoped>\n",
              "    .dataframe tbody tr th:only-of-type {\n",
              "        vertical-align: middle;\n",
              "    }\n",
              "\n",
              "    .dataframe tbody tr th {\n",
              "        vertical-align: top;\n",
              "    }\n",
              "\n",
              "    .dataframe thead th {\n",
              "        text-align: right;\n",
              "    }\n",
              "</style>\n",
              "<table border=\"1\" class=\"dataframe\">\n",
              "  <thead>\n",
              "    <tr style=\"text-align: right;\">\n",
              "      <th></th>\n",
              "      <th>Algorithm</th>\n",
              "      <th>Size</th>\n",
              "      <th>Train time</th>\n",
              "      <th>Test time</th>\n",
              "      <th>Train Accuracy</th>\n",
              "      <th>Test Accuracy</th>\n",
              "    </tr>\n",
              "  </thead>\n",
              "  <tbody>\n",
              "    <tr>\n",
              "      <th>0</th>\n",
              "      <td>Sequential OvR</td>\n",
              "      <td>6692</td>\n",
              "      <td>6.677889</td>\n",
              "      <td>0.020267</td>\n",
              "      <td>0.593709</td>\n",
              "      <td>0.597984</td>\n",
              "    </tr>\n",
              "    <tr>\n",
              "      <th>1</th>\n",
              "      <td>Sequential OvO</td>\n",
              "      <td>8390</td>\n",
              "      <td>5.502069</td>\n",
              "      <td>0.132493</td>\n",
              "      <td>0.623390</td>\n",
              "      <td>0.627473</td>\n",
              "    </tr>\n",
              "    <tr>\n",
              "      <th>2</th>\n",
              "      <td>Concurrent OvR</td>\n",
              "      <td>7300</td>\n",
              "      <td>7.855315</td>\n",
              "      <td>0.020955</td>\n",
              "      <td>0.593709</td>\n",
              "      <td>0.597984</td>\n",
              "    </tr>\n",
              "    <tr>\n",
              "      <th>3</th>\n",
              "      <td>Concurrent OvO</td>\n",
              "      <td>9288</td>\n",
              "      <td>3.670019</td>\n",
              "      <td>0.133227</td>\n",
              "      <td>0.623390</td>\n",
              "      <td>0.627473</td>\n",
              "    </tr>\n",
              "  </tbody>\n",
              "</table>\n",
              "</div>\n",
              "    <div class=\"colab-df-buttons\">\n",
              "\n",
              "  <div class=\"colab-df-container\">\n",
              "    <button class=\"colab-df-convert\" onclick=\"convertToInteractive('df-6b4df9a0-a83d-439d-a44b-abf3de1d0f9f')\"\n",
              "            title=\"Convert this dataframe to an interactive table.\"\n",
              "            style=\"display:none;\">\n",
              "\n",
              "  <svg xmlns=\"http://www.w3.org/2000/svg\" height=\"24px\" viewBox=\"0 -960 960 960\">\n",
              "    <path d=\"M120-120v-720h720v720H120Zm60-500h600v-160H180v160Zm220 220h160v-160H400v160Zm0 220h160v-160H400v160ZM180-400h160v-160H180v160Zm440 0h160v-160H620v160ZM180-180h160v-160H180v160Zm440 0h160v-160H620v160Z\"/>\n",
              "  </svg>\n",
              "    </button>\n",
              "\n",
              "  <style>\n",
              "    .colab-df-container {\n",
              "      display:flex;\n",
              "      gap: 12px;\n",
              "    }\n",
              "\n",
              "    .colab-df-convert {\n",
              "      background-color: #E8F0FE;\n",
              "      border: none;\n",
              "      border-radius: 50%;\n",
              "      cursor: pointer;\n",
              "      display: none;\n",
              "      fill: #1967D2;\n",
              "      height: 32px;\n",
              "      padding: 0 0 0 0;\n",
              "      width: 32px;\n",
              "    }\n",
              "\n",
              "    .colab-df-convert:hover {\n",
              "      background-color: #E2EBFA;\n",
              "      box-shadow: 0px 1px 2px rgba(60, 64, 67, 0.3), 0px 1px 3px 1px rgba(60, 64, 67, 0.15);\n",
              "      fill: #174EA6;\n",
              "    }\n",
              "\n",
              "    .colab-df-buttons div {\n",
              "      margin-bottom: 4px;\n",
              "    }\n",
              "\n",
              "    [theme=dark] .colab-df-convert {\n",
              "      background-color: #3B4455;\n",
              "      fill: #D2E3FC;\n",
              "    }\n",
              "\n",
              "    [theme=dark] .colab-df-convert:hover {\n",
              "      background-color: #434B5C;\n",
              "      box-shadow: 0px 1px 3px 1px rgba(0, 0, 0, 0.15);\n",
              "      filter: drop-shadow(0px 1px 2px rgba(0, 0, 0, 0.3));\n",
              "      fill: #FFFFFF;\n",
              "    }\n",
              "  </style>\n",
              "\n",
              "    <script>\n",
              "      const buttonEl =\n",
              "        document.querySelector('#df-6b4df9a0-a83d-439d-a44b-abf3de1d0f9f button.colab-df-convert');\n",
              "      buttonEl.style.display =\n",
              "        google.colab.kernel.accessAllowed ? 'block' : 'none';\n",
              "\n",
              "      async function convertToInteractive(key) {\n",
              "        const element = document.querySelector('#df-6b4df9a0-a83d-439d-a44b-abf3de1d0f9f');\n",
              "        const dataTable =\n",
              "          await google.colab.kernel.invokeFunction('convertToInteractive',\n",
              "                                                    [key], {});\n",
              "        if (!dataTable) return;\n",
              "\n",
              "        const docLinkHtml = 'Like what you see? Visit the ' +\n",
              "          '<a target=\"_blank\" href=https://colab.research.google.com/notebooks/data_table.ipynb>data table notebook</a>'\n",
              "          + ' to learn more about interactive tables.';\n",
              "        element.innerHTML = '';\n",
              "        dataTable['output_type'] = 'display_data';\n",
              "        await google.colab.output.renderOutput(dataTable, element);\n",
              "        const docLink = document.createElement('div');\n",
              "        docLink.innerHTML = docLinkHtml;\n",
              "        element.appendChild(docLink);\n",
              "      }\n",
              "    </script>\n",
              "  </div>\n",
              "\n",
              "\n",
              "<div id=\"df-97bd0b87-f66e-4ed8-a5d5-9aad50892d36\">\n",
              "  <button class=\"colab-df-quickchart\" onclick=\"quickchart('df-97bd0b87-f66e-4ed8-a5d5-9aad50892d36')\"\n",
              "            title=\"Suggest charts\"\n",
              "            style=\"display:none;\">\n",
              "\n",
              "<svg xmlns=\"http://www.w3.org/2000/svg\" height=\"24px\"viewBox=\"0 0 24 24\"\n",
              "     width=\"24px\">\n",
              "    <g>\n",
              "        <path d=\"M19 3H5c-1.1 0-2 .9-2 2v14c0 1.1.9 2 2 2h14c1.1 0 2-.9 2-2V5c0-1.1-.9-2-2-2zM9 17H7v-7h2v7zm4 0h-2V7h2v10zm4 0h-2v-4h2v4z\"/>\n",
              "    </g>\n",
              "</svg>\n",
              "  </button>\n",
              "\n",
              "<style>\n",
              "  .colab-df-quickchart {\n",
              "      --bg-color: #E8F0FE;\n",
              "      --fill-color: #1967D2;\n",
              "      --hover-bg-color: #E2EBFA;\n",
              "      --hover-fill-color: #174EA6;\n",
              "      --disabled-fill-color: #AAA;\n",
              "      --disabled-bg-color: #DDD;\n",
              "  }\n",
              "\n",
              "  [theme=dark] .colab-df-quickchart {\n",
              "      --bg-color: #3B4455;\n",
              "      --fill-color: #D2E3FC;\n",
              "      --hover-bg-color: #434B5C;\n",
              "      --hover-fill-color: #FFFFFF;\n",
              "      --disabled-bg-color: #3B4455;\n",
              "      --disabled-fill-color: #666;\n",
              "  }\n",
              "\n",
              "  .colab-df-quickchart {\n",
              "    background-color: var(--bg-color);\n",
              "    border: none;\n",
              "    border-radius: 50%;\n",
              "    cursor: pointer;\n",
              "    display: none;\n",
              "    fill: var(--fill-color);\n",
              "    height: 32px;\n",
              "    padding: 0;\n",
              "    width: 32px;\n",
              "  }\n",
              "\n",
              "  .colab-df-quickchart:hover {\n",
              "    background-color: var(--hover-bg-color);\n",
              "    box-shadow: 0 1px 2px rgba(60, 64, 67, 0.3), 0 1px 3px 1px rgba(60, 64, 67, 0.15);\n",
              "    fill: var(--button-hover-fill-color);\n",
              "  }\n",
              "\n",
              "  .colab-df-quickchart-complete:disabled,\n",
              "  .colab-df-quickchart-complete:disabled:hover {\n",
              "    background-color: var(--disabled-bg-color);\n",
              "    fill: var(--disabled-fill-color);\n",
              "    box-shadow: none;\n",
              "  }\n",
              "\n",
              "  .colab-df-spinner {\n",
              "    border: 2px solid var(--fill-color);\n",
              "    border-color: transparent;\n",
              "    border-bottom-color: var(--fill-color);\n",
              "    animation:\n",
              "      spin 1s steps(1) infinite;\n",
              "  }\n",
              "\n",
              "  @keyframes spin {\n",
              "    0% {\n",
              "      border-color: transparent;\n",
              "      border-bottom-color: var(--fill-color);\n",
              "      border-left-color: var(--fill-color);\n",
              "    }\n",
              "    20% {\n",
              "      border-color: transparent;\n",
              "      border-left-color: var(--fill-color);\n",
              "      border-top-color: var(--fill-color);\n",
              "    }\n",
              "    30% {\n",
              "      border-color: transparent;\n",
              "      border-left-color: var(--fill-color);\n",
              "      border-top-color: var(--fill-color);\n",
              "      border-right-color: var(--fill-color);\n",
              "    }\n",
              "    40% {\n",
              "      border-color: transparent;\n",
              "      border-right-color: var(--fill-color);\n",
              "      border-top-color: var(--fill-color);\n",
              "    }\n",
              "    60% {\n",
              "      border-color: transparent;\n",
              "      border-right-color: var(--fill-color);\n",
              "    }\n",
              "    80% {\n",
              "      border-color: transparent;\n",
              "      border-right-color: var(--fill-color);\n",
              "      border-bottom-color: var(--fill-color);\n",
              "    }\n",
              "    90% {\n",
              "      border-color: transparent;\n",
              "      border-bottom-color: var(--fill-color);\n",
              "    }\n",
              "  }\n",
              "</style>\n",
              "\n",
              "  <script>\n",
              "    async function quickchart(key) {\n",
              "      const quickchartButtonEl =\n",
              "        document.querySelector('#' + key + ' button');\n",
              "      quickchartButtonEl.disabled = true;  // To prevent multiple clicks.\n",
              "      quickchartButtonEl.classList.add('colab-df-spinner');\n",
              "      try {\n",
              "        const charts = await google.colab.kernel.invokeFunction(\n",
              "            'suggestCharts', [key], {});\n",
              "      } catch (error) {\n",
              "        console.error('Error during call to suggestCharts:', error);\n",
              "      }\n",
              "      quickchartButtonEl.classList.remove('colab-df-spinner');\n",
              "      quickchartButtonEl.classList.add('colab-df-quickchart-complete');\n",
              "    }\n",
              "    (() => {\n",
              "      let quickchartButtonEl =\n",
              "        document.querySelector('#df-97bd0b87-f66e-4ed8-a5d5-9aad50892d36 button');\n",
              "      quickchartButtonEl.style.display =\n",
              "        google.colab.kernel.accessAllowed ? 'block' : 'none';\n",
              "    })();\n",
              "  </script>\n",
              "</div>\n",
              "\n",
              "    </div>\n",
              "  </div>\n"
            ],
            "application/vnd.google.colaboratory.intrinsic+json": {
              "type": "dataframe",
              "summary": "{\n  \"name\": \"})\",\n  \"rows\": 4,\n  \"fields\": [\n    {\n      \"column\": \"Algorithm\",\n      \"properties\": {\n        \"dtype\": \"string\",\n        \"num_unique_values\": 4,\n        \"samples\": [\n          \"Sequential OvO\",\n          \"Concurrent OvO\",\n          \"Sequential OvR\"\n        ],\n        \"semantic_type\": \"\",\n        \"description\": \"\"\n      }\n    },\n    {\n      \"column\": \"Size\",\n      \"properties\": {\n        \"dtype\": \"number\",\n        \"std\": 1152,\n        \"min\": 6692,\n        \"max\": 9288,\n        \"num_unique_values\": 4,\n        \"samples\": [\n          8390,\n          9288,\n          6692\n        ],\n        \"semantic_type\": \"\",\n        \"description\": \"\"\n      }\n    },\n    {\n      \"column\": \"Train time\",\n      \"properties\": {\n        \"dtype\": \"number\",\n        \"std\": 1.784821376166703,\n        \"min\": 3.670019028000013,\n        \"max\": 7.855315173999998,\n        \"num_unique_values\": 4,\n        \"samples\": [\n          5.502068511999994,\n          3.670019028000013,\n          6.677889192999999\n        ],\n        \"semantic_type\": \"\",\n        \"description\": \"\"\n      }\n    },\n    {\n      \"column\": \"Test time\",\n      \"properties\": {\n        \"dtype\": \"number\",\n        \"std\": 0.0648084003799762,\n        \"min\": 0.02026691799997593,\n        \"max\": 0.13322697699999253,\n        \"num_unique_values\": 4,\n        \"samples\": [\n          0.13249347699999703,\n          0.13322697699999253,\n          0.02026691799997593\n        ],\n        \"semantic_type\": \"\",\n        \"description\": \"\"\n      }\n    },\n    {\n      \"column\": \"Train Accuracy\",\n      \"properties\": {\n        \"dtype\": \"number\",\n        \"std\": 0.017136212955226847,\n        \"min\": 0.5937091655777488,\n        \"max\": 0.6233899570655217,\n        \"num_unique_values\": 2,\n        \"samples\": [\n          0.6233899570655217,\n          0.5937091655777488\n        ],\n        \"semantic_type\": \"\",\n        \"description\": \"\"\n      }\n    },\n    {\n      \"column\": \"Test Accuracy\",\n      \"properties\": {\n        \"dtype\": \"number\",\n        \"std\": 0.01702525989771578,\n        \"min\": 0.5979843225083986,\n        \"max\": 0.6274729376633073,\n        \"num_unique_values\": 2,\n        \"samples\": [\n          0.6274729376633073,\n          0.5979843225083986\n        ],\n        \"semantic_type\": \"\",\n        \"description\": \"\"\n      }\n    }\n  ]\n}"
            }
          },
          "metadata": {},
          "execution_count": 32
        }
      ],
      "source": [
        "REP = 100\n",
        "\n",
        "Xbody_trainM = np.repeat(Xbody_train, REP, axis=0)\n",
        "Ybody_trainM = np.repeat(Ybody_train, REP, axis=0)\n",
        "Xbody_testM = np.repeat(Xbody_test, REP, axis=0)\n",
        "Ybody_testM = np.repeat(Ybody_test, REP, axis=0)\n",
        "\n",
        "ovr_seq = OneVsRestClassifier(LogisticRegression(solver='lbfgs', max_iter=100, penalty=None, n_jobs=1), n_jobs=1)\n",
        "ovo_seq = OneVsOneClassifier (LogisticRegression(solver='lbfgs', max_iter=100, penalty=None, n_jobs=1), n_jobs=1)\n",
        "ovr_con = OneVsRestClassifier(LogisticRegression(solver='lbfgs', max_iter=100, penalty=None, n_jobs=1), n_jobs=-1)\n",
        "ovo_con = OneVsOneClassifier (LogisticRegression(solver='lbfgs', max_iter=100, penalty=None, n_jobs=1), n_jobs=-1)\n",
        "\n",
        "\n",
        "perf = multi_eval([ovr_seq, ovo_seq, ovr_con, ovo_con],\n",
        "                  X_trn=Xbody_trainM,\n",
        "                  Y_trn=Ybody_trainM,\n",
        "                  X_tst=Xbody_testM,\n",
        "                  Y_tst=Ybody_testM)\n",
        "# multi_eval(mdls, X_trn=Xbody_trainM, Y_trn=Ybody_trainM, X_tst=Xbody_testM, Y_tst=Ybody_testM)\n",
        "\n",
        "pd.DataFrame({\n",
        "    'Algorithm'     : ['Sequential OvR', 'Sequential OvO', 'Concurrent OvR', 'Concurrent OvO'],\n",
        "    'Size'          : perf['size'     ],\n",
        "    'Train time'    : perf['trn_time' ],\n",
        "    'Test time'     : perf['tst_time' ],\n",
        "    'Train Accuracy': perf['trn_acc'  ],\n",
        "    'Test Accuracy' : perf['tst_acc'  ],\n",
        "})"
      ]
    },
    {
      "cell_type": "markdown",
      "metadata": {
        "id": "ADTNkco-l7Xi"
      },
      "source": [
        "**TODO: Analyze the results**\n",
        "\n",
        "1. Why the size of OvO is greater than OvR's?\n",
        "1. Why OvO takes less time to train than OvR?\n",
        "1. Why OvO takes more time to test than OvR?\n",
        "1. Why OvO generalizes better than OvR?\n",
        "1. How to modify OvR for multi-label classification?\n",
        "1. How to modify OvO for multi-label classification?\n",
        "\n",
        "**Answer**\n",
        "1. because OvO trains more classifiers than OvR (C × (C-1) / 2 classifier)\n",
        "1. because each classifier handles fewer samples(only on the 2 classes it compares), while OvR trains slower since each classifier has to see the full dataset.\n",
        "1. OvO takes longer to test because it requires running many more classifiers per prediction\n",
        "1. in OvO all classes get compared evenly in pairwise comparisons, its less affected by class imbalances, so it generalizes better since its decision boundaries are more specialized.\n",
        "1. using sigmoid(multiple independet sigmoid activation functions) so we can allow multiple classes per sample, and using BCE instead of ce.\n",
        "1. instead of forcing majority voting, we can define a threshold from which a sample can belong to multiple classes that are equivalent to that threshold"
      ]
    },
    {
      "cell_type": "code",
      "execution_count": 33,
      "metadata": {
        "id": "lrQb2viTl7Xi",
        "outputId": "4e34afa2-447e-47c4-ba46-eaa62b43477c",
        "colab": {
          "base_uri": "https://localhost:8080/",
          "height": 36
        }
      },
      "outputs": [
        {
          "output_type": "execute_result",
          "data": {
            "text/plain": [
              "'END OF LAB ...'"
            ],
            "application/vnd.google.colaboratory.intrinsic+json": {
              "type": "string"
            }
          },
          "metadata": {},
          "execution_count": 33
        }
      ],
      "source": [
        "'END OF LAB ...'"
      ]
    }
  ],
  "metadata": {
    "kernelspec": {
      "display_name": "Python 3",
      "language": "python",
      "name": "python3"
    },
    "language_info": {
      "codemirror_mode": {
        "name": "ipython",
        "version": 3
      },
      "file_extension": ".py",
      "mimetype": "text/x-python",
      "name": "python",
      "nbconvert_exporter": "python",
      "pygments_lexer": "ipython3",
      "version": "3.10.0"
    },
    "colab": {
      "provenance": []
    }
  },
  "nbformat": 4,
  "nbformat_minor": 0
}